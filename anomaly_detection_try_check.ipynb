{
 "cells": [
  {
   "cell_type": "code",
   "execution_count": 3,
   "metadata": {
    "scrolled": true
   },
   "outputs": [
    {
     "name": "stderr",
     "output_type": "stream",
     "text": [
      "Using TensorFlow backend.\n"
     ]
    }
   ],
   "source": [
    "#in this code,only those features are dropped according to reseaarch paper paragrph,null columns and constant value features and only string columns which contained 7 columns\n",
    "\n",
    "\n",
    "import pandas as pd\n",
    "import numpy\n",
    "from sklearn.preprocessing import LabelEncoder, LabelBinarizer, StandardScaler\n",
    "from keras.utils.np_utils import to_categorical\n",
    "from sklearn.metrics import accuracy_score, classification_report\n",
    "\n",
    "from sklearn.metrics import roc_auc_score, roc_curve\n",
    "from sklearn.linear_model import LogisticRegression, SGDClassifier\n",
    "from sklearn.ensemble import RandomForestClassifier\n",
    "from sklearn.svm import SVC\n",
    "from sklearn.tree import DecisionTreeClassifier\n",
    "import matplotlib.pyplot as plt"
   ]
  },
  {
   "cell_type": "code",
   "execution_count": 4,
   "metadata": {},
   "outputs": [],
   "source": [
    "features = ['frame.interface_id',\n",
    " 'frame.dlt',\n",
    " 'frame.offset_shift',\n",
    " 'frame.time_epoch',\n",
    " 'frame.time_delta',\n",
    " 'frame.time_delta_displayed',\n",
    " 'frame.time_relative',\n",
    " 'frame.len',\n",
    " 'frame.cap_len',\n",
    " 'frame.marked',\n",
    " 'frame.ignored',\n",
    " 'radiotap.version',\n",
    " 'radiotap.pad',\n",
    " 'radiotap.length',\n",
    " 'radiotap.present.tsft',\n",
    " 'radiotap.present.flags',\n",
    " 'radiotap.present.rate',\n",
    " 'radiotap.present.channel',\n",
    " 'radiotap.present.fhss',\n",
    " 'radiotap.present.dbm_antsignal',\n",
    " 'radiotap.present.dbm_antnoise',\n",
    " 'radiotap.present.lock_quality',\n",
    " 'radiotap.present.tx_attenuation',\n",
    " 'radiotap.present.db_tx_attenuation',\n",
    " 'radiotap.present.dbm_tx_power',\n",
    " 'radiotap.present.antenna',\n",
    " 'radiotap.present.db_antsignal',\n",
    " 'radiotap.present.db_antnoise',\n",
    " 'radiotap.present.rxflags',\n",
    " 'radiotap.present.xchannel',\n",
    " 'radiotap.present.mcs',\n",
    " 'radiotap.present.ampdu',\n",
    " 'radiotap.present.vht',\n",
    " 'radiotap.present.reserved',\n",
    " 'radiotap.present.rtap_ns',\n",
    " 'radiotap.present.vendor_ns',\n",
    " 'radiotap.present.ext',\n",
    " 'radiotap.mactime',\n",
    " 'radiotap.flags.cfp',\n",
    " 'radiotap.flags.preamble',\n",
    " 'radiotap.flags.wep',\n",
    " 'radiotap.flags.frag',\n",
    " 'radiotap.flags.fcs',\n",
    " 'radiotap.flags.datapad',\n",
    " 'radiotap.flags.badfcs',\n",
    " 'radiotap.flags.shortgi',\n",
    " 'radiotap.datarate',\n",
    " 'radiotap.channel.freq',\n",
    " 'radiotap.channel.type.turbo',\n",
    " 'radiotap.channel.type.cck',\n",
    " 'radiotap.channel.type.ofdm',\n",
    " 'radiotap.channel.type.2ghz',\n",
    " 'radiotap.channel.type.5ghz',\n",
    " 'radiotap.channel.type.passive',\n",
    " 'radiotap.channel.type.dynamic',\n",
    " 'radiotap.channel.type.gfsk',\n",
    " 'radiotap.channel.type.gsm',\n",
    " 'radiotap.channel.type.sturbo',\n",
    " 'radiotap.channel.type.half',\n",
    " 'radiotap.channel.type.quarter',\n",
    " 'radiotap.dbm_antsignal',\n",
    " 'radiotap.antenna',\n",
    " 'radiotap.rxflags.badplcp',\n",
    " 'wlan.fc.type_subtype',\n",
    " 'wlan.fc.version',\n",
    " 'wlan.fc.type',\n",
    " 'wlan.fc.subtype',\n",
    " 'wlan.fc.ds',\n",
    " 'wlan.fc.frag',\n",
    " 'wlan.fc.retry',\n",
    " 'wlan.fc.pwrmgt',\n",
    " 'wlan.fc.moredata',\n",
    " 'wlan.fc.protected',\n",
    " 'wlan.fc.order',\n",
    " 'wlan.duration',\n",
    " 'wlan.ra',\n",
    " 'wlan.da',\n",
    " 'wlan.ta',\n",
    " 'wlan.sa',\n",
    " 'wlan.bssid',\n",
    " 'wlan.frag',\n",
    " 'wlan.seq',\n",
    " 'wlan.bar.type',\n",
    " 'wlan.ba.control.ackpolicy',\n",
    " 'wlan.ba.control.multitid',\n",
    " 'wlan.ba.control.cbitmap',\n",
    " 'wlan.bar.compressed.tidinfo',\n",
    " 'wlan.ba.bm',\n",
    " 'wlan.fcs_good',\n",
    " 'wlan_mgt.fixed.capabilities.ess',\n",
    " 'wlan_mgt.fixed.capabilities.ibss',\n",
    " 'wlan_mgt.fixed.capabilities.cfpoll.ap',\n",
    " 'wlan_mgt.fixed.capabilities.privacy',\n",
    " 'wlan_mgt.fixed.capabilities.preamble',\n",
    " 'wlan_mgt.fixed.capabilities.pbcc',\n",
    " 'wlan_mgt.fixed.capabilities.agility',\n",
    " 'wlan_mgt.fixed.capabilities.spec_man',\n",
    " 'wlan_mgt.fixed.capabilities.short_slot_time',\n",
    " 'wlan_mgt.fixed.capabilities.apsd',\n",
    " 'wlan_mgt.fixed.capabilities.radio_measurement',\n",
    " 'wlan_mgt.fixed.capabilities.dsss_ofdm',\n",
    " 'wlan_mgt.fixed.capabilities.del_blk_ack',\n",
    " 'wlan_mgt.fixed.capabilities.imm_blk_ack',\n",
    " 'wlan_mgt.fixed.listen_ival',\n",
    " 'wlan_mgt.fixed.current_ap',\n",
    " 'wlan_mgt.fixed.status_code',\n",
    " 'wlan_mgt.fixed.timestamp',\n",
    " 'wlan_mgt.fixed.beacon',\n",
    " 'wlan_mgt.fixed.aid',\n",
    " 'wlan_mgt.fixed.reason_code',\n",
    " 'wlan_mgt.fixed.auth.alg',\n",
    " 'wlan_mgt.fixed.auth_seq',\n",
    " 'wlan_mgt.fixed.category_code',\n",
    " 'wlan_mgt.fixed.htact',\n",
    " 'wlan_mgt.fixed.chanwidth',\n",
    " 'wlan_mgt.fixed.fragment',\n",
    " 'wlan_mgt.fixed.sequence',\n",
    " 'wlan_mgt.tagged.all',\n",
    " 'wlan_mgt.ssid',\n",
    " 'wlan_mgt.ds.current_channel',\n",
    " 'wlan_mgt.tim.dtim_count',\n",
    " 'wlan_mgt.tim.dtim_period',\n",
    " 'wlan_mgt.tim.bmapctl.multicast',\n",
    " 'wlan_mgt.tim.bmapctl.offset',\n",
    " 'wlan_mgt.country_info.environment',\n",
    " 'wlan_mgt.rsn.version',\n",
    " 'wlan_mgt.rsn.gcs.type',\n",
    " 'wlan_mgt.rsn.pcs.count',\n",
    " 'wlan_mgt.rsn.akms.count',\n",
    " 'wlan_mgt.rsn.akms.type',\n",
    " 'wlan_mgt.rsn.capabilities.preauth',\n",
    " 'wlan_mgt.rsn.capabilities.no_pairwise',\n",
    " 'wlan_mgt.rsn.capabilities.ptksa_replay_counter',\n",
    " 'wlan_mgt.rsn.capabilities.gtksa_replay_counter',\n",
    " 'wlan_mgt.rsn.capabilities.mfpr',\n",
    " 'wlan_mgt.rsn.capabilities.mfpc',\n",
    " 'wlan_mgt.rsn.capabilities.peerkey',\n",
    " 'wlan_mgt.tcprep.trsmt_pow',\n",
    " 'wlan_mgt.tcprep.link_mrg',\n",
    " 'wlan.wep.iv',\n",
    " 'wlan.wep.key',\n",
    " 'wlan.wep.icv',\n",
    " 'wlan.tkip.extiv',\n",
    " 'wlan.ccmp.extiv',\n",
    " 'wlan.qos.tid',\n",
    " 'wlan.qos.priority',\n",
    " 'wlan.qos.eosp',\n",
    " 'wlan.qos.ack',\n",
    " 'wlan.qos.amsdupresent',\n",
    " 'wlan.qos.buf_state_indicated1',\n",
    " 'wlan.qos.bit4',\n",
    " 'wlan.qos.txop_dur_req',\n",
    " 'wlan.qos.buf_state_indicated2',\n",
    " 'data.len',\n",
    " 'class']"
   ]
  },
  {
   "cell_type": "code",
   "execution_count": 5,
   "metadata": {},
   "outputs": [
    {
     "name": "stderr",
     "output_type": "stream",
     "text": [
      "/home/shaubhik_2111cs19/anaconda3/lib/python3.8/site-packages/IPython/core/interactiveshell.py:3071: DtypeWarning: Columns (37,38,39,40,41,42,43,44,45,47,48,49,50,51,52,53,54,55,56,57,58,59,60,61,62,74,88) have mixed types.Specify dtype option on import or set low_memory=False.\n",
      "  has_raised = await self.run_ast_nodes(code_ast.body, cell_name,\n"
     ]
    }
   ],
   "source": [
    "awid = pd.read_csv(\"AWID-CLS-R-Trn.csv\", header=None, names=features)"
   ]
  },
  {
   "cell_type": "code",
   "execution_count": 6,
   "metadata": {},
   "outputs": [
    {
     "data": {
      "text/html": [
       "<div>\n",
       "<style scoped>\n",
       "    .dataframe tbody tr th:only-of-type {\n",
       "        vertical-align: middle;\n",
       "    }\n",
       "\n",
       "    .dataframe tbody tr th {\n",
       "        vertical-align: top;\n",
       "    }\n",
       "\n",
       "    .dataframe thead th {\n",
       "        text-align: right;\n",
       "    }\n",
       "</style>\n",
       "<table border=\"1\" class=\"dataframe\">\n",
       "  <thead>\n",
       "    <tr style=\"text-align: right;\">\n",
       "      <th></th>\n",
       "      <th>frame.interface_id</th>\n",
       "      <th>frame.dlt</th>\n",
       "      <th>frame.offset_shift</th>\n",
       "      <th>frame.time_epoch</th>\n",
       "      <th>frame.time_delta</th>\n",
       "      <th>frame.time_delta_displayed</th>\n",
       "      <th>frame.time_relative</th>\n",
       "      <th>frame.len</th>\n",
       "      <th>frame.cap_len</th>\n",
       "      <th>frame.marked</th>\n",
       "      <th>...</th>\n",
       "      <th>wlan.qos.priority</th>\n",
       "      <th>wlan.qos.eosp</th>\n",
       "      <th>wlan.qos.ack</th>\n",
       "      <th>wlan.qos.amsdupresent</th>\n",
       "      <th>wlan.qos.buf_state_indicated1</th>\n",
       "      <th>wlan.qos.bit4</th>\n",
       "      <th>wlan.qos.txop_dur_req</th>\n",
       "      <th>wlan.qos.buf_state_indicated2</th>\n",
       "      <th>data.len</th>\n",
       "      <th>class</th>\n",
       "    </tr>\n",
       "  </thead>\n",
       "  <tbody>\n",
       "    <tr>\n",
       "      <th>0</th>\n",
       "      <td>0</td>\n",
       "      <td>?</td>\n",
       "      <td>0.0</td>\n",
       "      <td>1.393661e+09</td>\n",
       "      <td>0.000000</td>\n",
       "      <td>0.000000</td>\n",
       "      <td>0.000000</td>\n",
       "      <td>261</td>\n",
       "      <td>261</td>\n",
       "      <td>0</td>\n",
       "      <td>...</td>\n",
       "      <td>?</td>\n",
       "      <td>?</td>\n",
       "      <td>?</td>\n",
       "      <td>?</td>\n",
       "      <td>?</td>\n",
       "      <td>?</td>\n",
       "      <td>?</td>\n",
       "      <td>?</td>\n",
       "      <td>?</td>\n",
       "      <td>normal</td>\n",
       "    </tr>\n",
       "    <tr>\n",
       "      <th>1</th>\n",
       "      <td>0</td>\n",
       "      <td>?</td>\n",
       "      <td>0.0</td>\n",
       "      <td>1.393661e+09</td>\n",
       "      <td>0.024271</td>\n",
       "      <td>0.024271</td>\n",
       "      <td>0.024271</td>\n",
       "      <td>185</td>\n",
       "      <td>185</td>\n",
       "      <td>0</td>\n",
       "      <td>...</td>\n",
       "      <td>?</td>\n",
       "      <td>?</td>\n",
       "      <td>?</td>\n",
       "      <td>?</td>\n",
       "      <td>?</td>\n",
       "      <td>?</td>\n",
       "      <td>?</td>\n",
       "      <td>?</td>\n",
       "      <td>?</td>\n",
       "      <td>normal</td>\n",
       "    </tr>\n",
       "    <tr>\n",
       "      <th>2</th>\n",
       "      <td>0</td>\n",
       "      <td>?</td>\n",
       "      <td>0.0</td>\n",
       "      <td>1.393661e+09</td>\n",
       "      <td>0.001631</td>\n",
       "      <td>0.001631</td>\n",
       "      <td>0.025902</td>\n",
       "      <td>185</td>\n",
       "      <td>185</td>\n",
       "      <td>0</td>\n",
       "      <td>...</td>\n",
       "      <td>?</td>\n",
       "      <td>?</td>\n",
       "      <td>?</td>\n",
       "      <td>?</td>\n",
       "      <td>?</td>\n",
       "      <td>?</td>\n",
       "      <td>?</td>\n",
       "      <td>?</td>\n",
       "      <td>?</td>\n",
       "      <td>normal</td>\n",
       "    </tr>\n",
       "    <tr>\n",
       "      <th>3</th>\n",
       "      <td>0</td>\n",
       "      <td>?</td>\n",
       "      <td>0.0</td>\n",
       "      <td>1.393661e+09</td>\n",
       "      <td>0.055325</td>\n",
       "      <td>0.055325</td>\n",
       "      <td>0.081227</td>\n",
       "      <td>159</td>\n",
       "      <td>159</td>\n",
       "      <td>0</td>\n",
       "      <td>...</td>\n",
       "      <td>?</td>\n",
       "      <td>?</td>\n",
       "      <td>?</td>\n",
       "      <td>?</td>\n",
       "      <td>?</td>\n",
       "      <td>?</td>\n",
       "      <td>?</td>\n",
       "      <td>?</td>\n",
       "      <td>?</td>\n",
       "      <td>normal</td>\n",
       "    </tr>\n",
       "    <tr>\n",
       "      <th>4</th>\n",
       "      <td>0</td>\n",
       "      <td>?</td>\n",
       "      <td>0.0</td>\n",
       "      <td>1.393661e+09</td>\n",
       "      <td>0.000415</td>\n",
       "      <td>0.000415</td>\n",
       "      <td>0.081642</td>\n",
       "      <td>54</td>\n",
       "      <td>54</td>\n",
       "      <td>0</td>\n",
       "      <td>...</td>\n",
       "      <td>?</td>\n",
       "      <td>?</td>\n",
       "      <td>?</td>\n",
       "      <td>?</td>\n",
       "      <td>?</td>\n",
       "      <td>?</td>\n",
       "      <td>?</td>\n",
       "      <td>?</td>\n",
       "      <td>?</td>\n",
       "      <td>normal</td>\n",
       "    </tr>\n",
       "    <tr>\n",
       "      <th>...</th>\n",
       "      <td>...</td>\n",
       "      <td>...</td>\n",
       "      <td>...</td>\n",
       "      <td>...</td>\n",
       "      <td>...</td>\n",
       "      <td>...</td>\n",
       "      <td>...</td>\n",
       "      <td>...</td>\n",
       "      <td>...</td>\n",
       "      <td>...</td>\n",
       "      <td>...</td>\n",
       "      <td>...</td>\n",
       "      <td>...</td>\n",
       "      <td>...</td>\n",
       "      <td>...</td>\n",
       "      <td>...</td>\n",
       "      <td>...</td>\n",
       "      <td>...</td>\n",
       "      <td>...</td>\n",
       "      <td>...</td>\n",
       "      <td>...</td>\n",
       "    </tr>\n",
       "    <tr>\n",
       "      <th>1795570</th>\n",
       "      <td>0</td>\n",
       "      <td>?</td>\n",
       "      <td>0.0</td>\n",
       "      <td>1.393665e+09</td>\n",
       "      <td>0.000006</td>\n",
       "      <td>0.000006</td>\n",
       "      <td>3599.522705</td>\n",
       "      <td>40</td>\n",
       "      <td>40</td>\n",
       "      <td>0</td>\n",
       "      <td>...</td>\n",
       "      <td>?</td>\n",
       "      <td>?</td>\n",
       "      <td>?</td>\n",
       "      <td>?</td>\n",
       "      <td>?</td>\n",
       "      <td>?</td>\n",
       "      <td>?</td>\n",
       "      <td>?</td>\n",
       "      <td>?</td>\n",
       "      <td>normal</td>\n",
       "    </tr>\n",
       "    <tr>\n",
       "      <th>1795571</th>\n",
       "      <td>0</td>\n",
       "      <td>?</td>\n",
       "      <td>0.0</td>\n",
       "      <td>1.393665e+09</td>\n",
       "      <td>0.005067</td>\n",
       "      <td>0.005067</td>\n",
       "      <td>3599.527772</td>\n",
       "      <td>148</td>\n",
       "      <td>148</td>\n",
       "      <td>0</td>\n",
       "      <td>...</td>\n",
       "      <td>?</td>\n",
       "      <td>?</td>\n",
       "      <td>?</td>\n",
       "      <td>?</td>\n",
       "      <td>?</td>\n",
       "      <td>?</td>\n",
       "      <td>?</td>\n",
       "      <td>?</td>\n",
       "      <td>?</td>\n",
       "      <td>normal</td>\n",
       "    </tr>\n",
       "    <tr>\n",
       "      <th>1795572</th>\n",
       "      <td>0</td>\n",
       "      <td>?</td>\n",
       "      <td>0.0</td>\n",
       "      <td>1.393665e+09</td>\n",
       "      <td>0.010242</td>\n",
       "      <td>0.010242</td>\n",
       "      <td>3599.538014</td>\n",
       "      <td>54</td>\n",
       "      <td>54</td>\n",
       "      <td>0</td>\n",
       "      <td>...</td>\n",
       "      <td>?</td>\n",
       "      <td>?</td>\n",
       "      <td>?</td>\n",
       "      <td>?</td>\n",
       "      <td>?</td>\n",
       "      <td>?</td>\n",
       "      <td>?</td>\n",
       "      <td>?</td>\n",
       "      <td>?</td>\n",
       "      <td>normal</td>\n",
       "    </tr>\n",
       "    <tr>\n",
       "      <th>1795573</th>\n",
       "      <td>0</td>\n",
       "      <td>?</td>\n",
       "      <td>0.0</td>\n",
       "      <td>1.393665e+09</td>\n",
       "      <td>0.000007</td>\n",
       "      <td>0.000007</td>\n",
       "      <td>3599.538021</td>\n",
       "      <td>40</td>\n",
       "      <td>40</td>\n",
       "      <td>0</td>\n",
       "      <td>...</td>\n",
       "      <td>?</td>\n",
       "      <td>?</td>\n",
       "      <td>?</td>\n",
       "      <td>?</td>\n",
       "      <td>?</td>\n",
       "      <td>?</td>\n",
       "      <td>?</td>\n",
       "      <td>?</td>\n",
       "      <td>?</td>\n",
       "      <td>normal</td>\n",
       "    </tr>\n",
       "    <tr>\n",
       "      <th>1795574</th>\n",
       "      <td>0</td>\n",
       "      <td>?</td>\n",
       "      <td>0.0</td>\n",
       "      <td>1.393665e+09</td>\n",
       "      <td>0.033266</td>\n",
       "      <td>0.033266</td>\n",
       "      <td>3599.571287</td>\n",
       "      <td>159</td>\n",
       "      <td>159</td>\n",
       "      <td>0</td>\n",
       "      <td>...</td>\n",
       "      <td>?</td>\n",
       "      <td>?</td>\n",
       "      <td>?</td>\n",
       "      <td>?</td>\n",
       "      <td>?</td>\n",
       "      <td>?</td>\n",
       "      <td>?</td>\n",
       "      <td>?</td>\n",
       "      <td>?</td>\n",
       "      <td>normal</td>\n",
       "    </tr>\n",
       "  </tbody>\n",
       "</table>\n",
       "<p>1795575 rows × 155 columns</p>\n",
       "</div>"
      ],
      "text/plain": [
       "         frame.interface_id frame.dlt  frame.offset_shift  frame.time_epoch  \\\n",
       "0                         0         ?                 0.0      1.393661e+09   \n",
       "1                         0         ?                 0.0      1.393661e+09   \n",
       "2                         0         ?                 0.0      1.393661e+09   \n",
       "3                         0         ?                 0.0      1.393661e+09   \n",
       "4                         0         ?                 0.0      1.393661e+09   \n",
       "...                     ...       ...                 ...               ...   \n",
       "1795570                   0         ?                 0.0      1.393665e+09   \n",
       "1795571                   0         ?                 0.0      1.393665e+09   \n",
       "1795572                   0         ?                 0.0      1.393665e+09   \n",
       "1795573                   0         ?                 0.0      1.393665e+09   \n",
       "1795574                   0         ?                 0.0      1.393665e+09   \n",
       "\n",
       "         frame.time_delta  frame.time_delta_displayed  frame.time_relative  \\\n",
       "0                0.000000                    0.000000             0.000000   \n",
       "1                0.024271                    0.024271             0.024271   \n",
       "2                0.001631                    0.001631             0.025902   \n",
       "3                0.055325                    0.055325             0.081227   \n",
       "4                0.000415                    0.000415             0.081642   \n",
       "...                   ...                         ...                  ...   \n",
       "1795570          0.000006                    0.000006          3599.522705   \n",
       "1795571          0.005067                    0.005067          3599.527772   \n",
       "1795572          0.010242                    0.010242          3599.538014   \n",
       "1795573          0.000007                    0.000007          3599.538021   \n",
       "1795574          0.033266                    0.033266          3599.571287   \n",
       "\n",
       "         frame.len  frame.cap_len  frame.marked  ...  wlan.qos.priority  \\\n",
       "0              261            261             0  ...                  ?   \n",
       "1              185            185             0  ...                  ?   \n",
       "2              185            185             0  ...                  ?   \n",
       "3              159            159             0  ...                  ?   \n",
       "4               54             54             0  ...                  ?   \n",
       "...            ...            ...           ...  ...                ...   \n",
       "1795570         40             40             0  ...                  ?   \n",
       "1795571        148            148             0  ...                  ?   \n",
       "1795572         54             54             0  ...                  ?   \n",
       "1795573         40             40             0  ...                  ?   \n",
       "1795574        159            159             0  ...                  ?   \n",
       "\n",
       "         wlan.qos.eosp  wlan.qos.ack  wlan.qos.amsdupresent  \\\n",
       "0                    ?             ?                      ?   \n",
       "1                    ?             ?                      ?   \n",
       "2                    ?             ?                      ?   \n",
       "3                    ?             ?                      ?   \n",
       "4                    ?             ?                      ?   \n",
       "...                ...           ...                    ...   \n",
       "1795570              ?             ?                      ?   \n",
       "1795571              ?             ?                      ?   \n",
       "1795572              ?             ?                      ?   \n",
       "1795573              ?             ?                      ?   \n",
       "1795574              ?             ?                      ?   \n",
       "\n",
       "         wlan.qos.buf_state_indicated1  wlan.qos.bit4  wlan.qos.txop_dur_req  \\\n",
       "0                                    ?              ?                      ?   \n",
       "1                                    ?              ?                      ?   \n",
       "2                                    ?              ?                      ?   \n",
       "3                                    ?              ?                      ?   \n",
       "4                                    ?              ?                      ?   \n",
       "...                                ...            ...                    ...   \n",
       "1795570                              ?              ?                      ?   \n",
       "1795571                              ?              ?                      ?   \n",
       "1795572                              ?              ?                      ?   \n",
       "1795573                              ?              ?                      ?   \n",
       "1795574                              ?              ?                      ?   \n",
       "\n",
       "         wlan.qos.buf_state_indicated2  data.len   class  \n",
       "0                                    ?         ?  normal  \n",
       "1                                    ?         ?  normal  \n",
       "2                                    ?         ?  normal  \n",
       "3                                    ?         ?  normal  \n",
       "4                                    ?         ?  normal  \n",
       "...                                ...       ...     ...  \n",
       "1795570                              ?         ?  normal  \n",
       "1795571                              ?         ?  normal  \n",
       "1795572                              ?         ?  normal  \n",
       "1795573                              ?         ?  normal  \n",
       "1795574                              ?         ?  normal  \n",
       "\n",
       "[1795575 rows x 155 columns]"
      ]
     },
     "execution_count": 6,
     "metadata": {},
     "output_type": "execute_result"
    }
   ],
   "source": [
    "awid"
   ]
  },
  {
   "cell_type": "code",
   "execution_count": 7,
   "metadata": {},
   "outputs": [
    {
     "name": "stderr",
     "output_type": "stream",
     "text": [
      "/home/shaubhik_2111cs19/anaconda3/lib/python3.8/site-packages/IPython/core/interactiveshell.py:3071: DtypeWarning: Columns (37,38,39,40,41,42,43,44,45,47,48,49,50,51,52,53,54,55,56,57,58,59,60,61,62,74,88) have mixed types.Specify dtype option on import or set low_memory=False.\n",
      "  has_raised = await self.run_ast_nodes(code_ast.body, cell_name,\n"
     ]
    }
   ],
   "source": [
    "awid_test = pd.read_csv(\"AWID-CLS-R-Tst.csv\", header=None, names=features)"
   ]
  },
  {
   "cell_type": "code",
   "execution_count": 8,
   "metadata": {},
   "outputs": [],
   "source": [
    "awid.replace({\"?\":None}, inplace=True)"
   ]
  },
  {
   "cell_type": "code",
   "execution_count": 9,
   "metadata": {},
   "outputs": [
    {
     "data": {
      "text/plain": [
       "(70,)"
      ]
     },
     "execution_count": 9,
     "metadata": {},
     "output_type": "execute_result"
    }
   ],
   "source": [
    "null_column1=awid.columns[awid.isnull().mean()>= 0.51]\n",
    "null_column1.shape"
   ]
  },
  {
   "cell_type": "code",
   "execution_count": 10,
   "metadata": {},
   "outputs": [],
   "source": [
    "# null_column1"
   ]
  },
  {
   "cell_type": "code",
   "execution_count": 11,
   "metadata": {},
   "outputs": [],
   "source": [
    "awid.drop(labels=null_column1, axis=1, inplace=True)\n",
    "# X_test.drop(labels=str_colm, axis=1, inplace=True)"
   ]
  },
  {
   "cell_type": "code",
   "execution_count": 12,
   "metadata": {},
   "outputs": [
    {
     "data": {
      "text/html": [
       "<div>\n",
       "<style scoped>\n",
       "    .dataframe tbody tr th:only-of-type {\n",
       "        vertical-align: middle;\n",
       "    }\n",
       "\n",
       "    .dataframe tbody tr th {\n",
       "        vertical-align: top;\n",
       "    }\n",
       "\n",
       "    .dataframe thead th {\n",
       "        text-align: right;\n",
       "    }\n",
       "</style>\n",
       "<table border=\"1\" class=\"dataframe\">\n",
       "  <thead>\n",
       "    <tr style=\"text-align: right;\">\n",
       "      <th></th>\n",
       "      <th>frame.interface_id</th>\n",
       "      <th>frame.offset_shift</th>\n",
       "      <th>frame.time_epoch</th>\n",
       "      <th>frame.time_delta</th>\n",
       "      <th>frame.time_delta_displayed</th>\n",
       "      <th>frame.time_relative</th>\n",
       "      <th>frame.len</th>\n",
       "      <th>frame.cap_len</th>\n",
       "      <th>frame.marked</th>\n",
       "      <th>frame.ignored</th>\n",
       "      <th>...</th>\n",
       "      <th>wlan.da</th>\n",
       "      <th>wlan.ta</th>\n",
       "      <th>wlan.sa</th>\n",
       "      <th>wlan.bssid</th>\n",
       "      <th>wlan.frag</th>\n",
       "      <th>wlan.seq</th>\n",
       "      <th>wlan.fcs_good</th>\n",
       "      <th>wlan.wep.key</th>\n",
       "      <th>data.len</th>\n",
       "      <th>class</th>\n",
       "    </tr>\n",
       "  </thead>\n",
       "  <tbody>\n",
       "    <tr>\n",
       "      <th>0</th>\n",
       "      <td>0</td>\n",
       "      <td>0.0</td>\n",
       "      <td>1.393661e+09</td>\n",
       "      <td>0.000000</td>\n",
       "      <td>0.000000</td>\n",
       "      <td>0.000000</td>\n",
       "      <td>261</td>\n",
       "      <td>261</td>\n",
       "      <td>0</td>\n",
       "      <td>0</td>\n",
       "      <td>...</td>\n",
       "      <td>ff:ff:ff:ff:ff:ff</td>\n",
       "      <td>b0:48:7a:e2:62:23</td>\n",
       "      <td>b0:48:7a:e2:62:23</td>\n",
       "      <td>b0:48:7a:e2:62:23</td>\n",
       "      <td>0</td>\n",
       "      <td>2851</td>\n",
       "      <td>1</td>\n",
       "      <td>None</td>\n",
       "      <td>None</td>\n",
       "      <td>normal</td>\n",
       "    </tr>\n",
       "    <tr>\n",
       "      <th>1</th>\n",
       "      <td>0</td>\n",
       "      <td>0.0</td>\n",
       "      <td>1.393661e+09</td>\n",
       "      <td>0.024271</td>\n",
       "      <td>0.024271</td>\n",
       "      <td>0.024271</td>\n",
       "      <td>185</td>\n",
       "      <td>185</td>\n",
       "      <td>0</td>\n",
       "      <td>0</td>\n",
       "      <td>...</td>\n",
       "      <td>ff:ff:ff:ff:ff:ff</td>\n",
       "      <td>38:22:9d:ae:c5:65</td>\n",
       "      <td>38:22:9d:ae:c5:65</td>\n",
       "      <td>38:22:9d:ae:c5:65</td>\n",
       "      <td>0</td>\n",
       "      <td>2159</td>\n",
       "      <td>1</td>\n",
       "      <td>None</td>\n",
       "      <td>None</td>\n",
       "      <td>normal</td>\n",
       "    </tr>\n",
       "    <tr>\n",
       "      <th>2</th>\n",
       "      <td>0</td>\n",
       "      <td>0.0</td>\n",
       "      <td>1.393661e+09</td>\n",
       "      <td>0.001631</td>\n",
       "      <td>0.001631</td>\n",
       "      <td>0.025902</td>\n",
       "      <td>185</td>\n",
       "      <td>185</td>\n",
       "      <td>0</td>\n",
       "      <td>0</td>\n",
       "      <td>...</td>\n",
       "      <td>ff:ff:ff:ff:ff:ff</td>\n",
       "      <td>38:22:9d:c4:8d:28</td>\n",
       "      <td>38:22:9d:c4:8d:28</td>\n",
       "      <td>38:22:9d:c4:8d:28</td>\n",
       "      <td>0</td>\n",
       "      <td>291</td>\n",
       "      <td>1</td>\n",
       "      <td>None</td>\n",
       "      <td>None</td>\n",
       "      <td>normal</td>\n",
       "    </tr>\n",
       "    <tr>\n",
       "      <th>3</th>\n",
       "      <td>0</td>\n",
       "      <td>0.0</td>\n",
       "      <td>1.393661e+09</td>\n",
       "      <td>0.055325</td>\n",
       "      <td>0.055325</td>\n",
       "      <td>0.081227</td>\n",
       "      <td>159</td>\n",
       "      <td>159</td>\n",
       "      <td>0</td>\n",
       "      <td>0</td>\n",
       "      <td>...</td>\n",
       "      <td>ff:ff:ff:ff:ff:ff</td>\n",
       "      <td>00:13:33:87:62:6d</td>\n",
       "      <td>00:13:33:87:62:6d</td>\n",
       "      <td>00:13:33:87:62:6d</td>\n",
       "      <td>0</td>\n",
       "      <td>3684</td>\n",
       "      <td>1</td>\n",
       "      <td>None</td>\n",
       "      <td>None</td>\n",
       "      <td>normal</td>\n",
       "    </tr>\n",
       "    <tr>\n",
       "      <th>4</th>\n",
       "      <td>0</td>\n",
       "      <td>0.0</td>\n",
       "      <td>1.393661e+09</td>\n",
       "      <td>0.000415</td>\n",
       "      <td>0.000415</td>\n",
       "      <td>0.081642</td>\n",
       "      <td>54</td>\n",
       "      <td>54</td>\n",
       "      <td>0</td>\n",
       "      <td>0</td>\n",
       "      <td>...</td>\n",
       "      <td>28:c6:8e:86:d3:d6</td>\n",
       "      <td>00:25:bc:ed:07:cf</td>\n",
       "      <td>00:25:bc:ed:07:cf</td>\n",
       "      <td>28:c6:8e:86:d3:d6</td>\n",
       "      <td>0</td>\n",
       "      <td>3874</td>\n",
       "      <td>1</td>\n",
       "      <td>None</td>\n",
       "      <td>None</td>\n",
       "      <td>normal</td>\n",
       "    </tr>\n",
       "    <tr>\n",
       "      <th>...</th>\n",
       "      <td>...</td>\n",
       "      <td>...</td>\n",
       "      <td>...</td>\n",
       "      <td>...</td>\n",
       "      <td>...</td>\n",
       "      <td>...</td>\n",
       "      <td>...</td>\n",
       "      <td>...</td>\n",
       "      <td>...</td>\n",
       "      <td>...</td>\n",
       "      <td>...</td>\n",
       "      <td>...</td>\n",
       "      <td>...</td>\n",
       "      <td>...</td>\n",
       "      <td>...</td>\n",
       "      <td>...</td>\n",
       "      <td>...</td>\n",
       "      <td>...</td>\n",
       "      <td>...</td>\n",
       "      <td>...</td>\n",
       "      <td>...</td>\n",
       "    </tr>\n",
       "    <tr>\n",
       "      <th>1795570</th>\n",
       "      <td>0</td>\n",
       "      <td>0.0</td>\n",
       "      <td>1.393665e+09</td>\n",
       "      <td>0.000006</td>\n",
       "      <td>0.000006</td>\n",
       "      <td>3599.522705</td>\n",
       "      <td>40</td>\n",
       "      <td>40</td>\n",
       "      <td>0</td>\n",
       "      <td>0</td>\n",
       "      <td>...</td>\n",
       "      <td>None</td>\n",
       "      <td>None</td>\n",
       "      <td>None</td>\n",
       "      <td>None</td>\n",
       "      <td>None</td>\n",
       "      <td>None</td>\n",
       "      <td>1</td>\n",
       "      <td>None</td>\n",
       "      <td>None</td>\n",
       "      <td>normal</td>\n",
       "    </tr>\n",
       "    <tr>\n",
       "      <th>1795571</th>\n",
       "      <td>0</td>\n",
       "      <td>0.0</td>\n",
       "      <td>1.393665e+09</td>\n",
       "      <td>0.005067</td>\n",
       "      <td>0.005067</td>\n",
       "      <td>3599.527772</td>\n",
       "      <td>148</td>\n",
       "      <td>148</td>\n",
       "      <td>0</td>\n",
       "      <td>0</td>\n",
       "      <td>...</td>\n",
       "      <td>ff:ff:ff:ff:ff:ff</td>\n",
       "      <td>28:c6:8e:86:d3:d6</td>\n",
       "      <td>28:c6:8e:86:d3:d6</td>\n",
       "      <td>28:c6:8e:86:d3:d6</td>\n",
       "      <td>0</td>\n",
       "      <td>2134</td>\n",
       "      <td>1</td>\n",
       "      <td>None</td>\n",
       "      <td>None</td>\n",
       "      <td>normal</td>\n",
       "    </tr>\n",
       "    <tr>\n",
       "      <th>1795572</th>\n",
       "      <td>0</td>\n",
       "      <td>0.0</td>\n",
       "      <td>1.393665e+09</td>\n",
       "      <td>0.010242</td>\n",
       "      <td>0.010242</td>\n",
       "      <td>3599.538014</td>\n",
       "      <td>54</td>\n",
       "      <td>54</td>\n",
       "      <td>0</td>\n",
       "      <td>0</td>\n",
       "      <td>...</td>\n",
       "      <td>28:c6:8e:86:d3:d6</td>\n",
       "      <td>20:64:32:54:c9:da</td>\n",
       "      <td>20:64:32:54:c9:da</td>\n",
       "      <td>28:c6:8e:86:d3:d6</td>\n",
       "      <td>0</td>\n",
       "      <td>1442</td>\n",
       "      <td>1</td>\n",
       "      <td>None</td>\n",
       "      <td>None</td>\n",
       "      <td>normal</td>\n",
       "    </tr>\n",
       "    <tr>\n",
       "      <th>1795573</th>\n",
       "      <td>0</td>\n",
       "      <td>0.0</td>\n",
       "      <td>1.393665e+09</td>\n",
       "      <td>0.000007</td>\n",
       "      <td>0.000007</td>\n",
       "      <td>3599.538021</td>\n",
       "      <td>40</td>\n",
       "      <td>40</td>\n",
       "      <td>0</td>\n",
       "      <td>0</td>\n",
       "      <td>...</td>\n",
       "      <td>None</td>\n",
       "      <td>None</td>\n",
       "      <td>None</td>\n",
       "      <td>None</td>\n",
       "      <td>None</td>\n",
       "      <td>None</td>\n",
       "      <td>1</td>\n",
       "      <td>None</td>\n",
       "      <td>None</td>\n",
       "      <td>normal</td>\n",
       "    </tr>\n",
       "    <tr>\n",
       "      <th>1795574</th>\n",
       "      <td>0</td>\n",
       "      <td>0.0</td>\n",
       "      <td>1.393665e+09</td>\n",
       "      <td>0.033266</td>\n",
       "      <td>0.033266</td>\n",
       "      <td>3599.571287</td>\n",
       "      <td>159</td>\n",
       "      <td>159</td>\n",
       "      <td>0</td>\n",
       "      <td>0</td>\n",
       "      <td>...</td>\n",
       "      <td>ff:ff:ff:ff:ff:ff</td>\n",
       "      <td>00:13:33:87:62:6d</td>\n",
       "      <td>00:13:33:87:62:6d</td>\n",
       "      <td>00:13:33:87:62:6d</td>\n",
       "      <td>0</td>\n",
       "      <td>1677</td>\n",
       "      <td>1</td>\n",
       "      <td>None</td>\n",
       "      <td>None</td>\n",
       "      <td>normal</td>\n",
       "    </tr>\n",
       "  </tbody>\n",
       "</table>\n",
       "<p>1795575 rows × 85 columns</p>\n",
       "</div>"
      ],
      "text/plain": [
       "         frame.interface_id  frame.offset_shift  frame.time_epoch  \\\n",
       "0                         0                 0.0      1.393661e+09   \n",
       "1                         0                 0.0      1.393661e+09   \n",
       "2                         0                 0.0      1.393661e+09   \n",
       "3                         0                 0.0      1.393661e+09   \n",
       "4                         0                 0.0      1.393661e+09   \n",
       "...                     ...                 ...               ...   \n",
       "1795570                   0                 0.0      1.393665e+09   \n",
       "1795571                   0                 0.0      1.393665e+09   \n",
       "1795572                   0                 0.0      1.393665e+09   \n",
       "1795573                   0                 0.0      1.393665e+09   \n",
       "1795574                   0                 0.0      1.393665e+09   \n",
       "\n",
       "         frame.time_delta  frame.time_delta_displayed  frame.time_relative  \\\n",
       "0                0.000000                    0.000000             0.000000   \n",
       "1                0.024271                    0.024271             0.024271   \n",
       "2                0.001631                    0.001631             0.025902   \n",
       "3                0.055325                    0.055325             0.081227   \n",
       "4                0.000415                    0.000415             0.081642   \n",
       "...                   ...                         ...                  ...   \n",
       "1795570          0.000006                    0.000006          3599.522705   \n",
       "1795571          0.005067                    0.005067          3599.527772   \n",
       "1795572          0.010242                    0.010242          3599.538014   \n",
       "1795573          0.000007                    0.000007          3599.538021   \n",
       "1795574          0.033266                    0.033266          3599.571287   \n",
       "\n",
       "         frame.len  frame.cap_len  frame.marked  frame.ignored  ...  \\\n",
       "0              261            261             0              0  ...   \n",
       "1              185            185             0              0  ...   \n",
       "2              185            185             0              0  ...   \n",
       "3              159            159             0              0  ...   \n",
       "4               54             54             0              0  ...   \n",
       "...            ...            ...           ...            ...  ...   \n",
       "1795570         40             40             0              0  ...   \n",
       "1795571        148            148             0              0  ...   \n",
       "1795572         54             54             0              0  ...   \n",
       "1795573         40             40             0              0  ...   \n",
       "1795574        159            159             0              0  ...   \n",
       "\n",
       "                   wlan.da            wlan.ta            wlan.sa  \\\n",
       "0        ff:ff:ff:ff:ff:ff  b0:48:7a:e2:62:23  b0:48:7a:e2:62:23   \n",
       "1        ff:ff:ff:ff:ff:ff  38:22:9d:ae:c5:65  38:22:9d:ae:c5:65   \n",
       "2        ff:ff:ff:ff:ff:ff  38:22:9d:c4:8d:28  38:22:9d:c4:8d:28   \n",
       "3        ff:ff:ff:ff:ff:ff  00:13:33:87:62:6d  00:13:33:87:62:6d   \n",
       "4        28:c6:8e:86:d3:d6  00:25:bc:ed:07:cf  00:25:bc:ed:07:cf   \n",
       "...                    ...                ...                ...   \n",
       "1795570               None               None               None   \n",
       "1795571  ff:ff:ff:ff:ff:ff  28:c6:8e:86:d3:d6  28:c6:8e:86:d3:d6   \n",
       "1795572  28:c6:8e:86:d3:d6  20:64:32:54:c9:da  20:64:32:54:c9:da   \n",
       "1795573               None               None               None   \n",
       "1795574  ff:ff:ff:ff:ff:ff  00:13:33:87:62:6d  00:13:33:87:62:6d   \n",
       "\n",
       "                wlan.bssid  wlan.frag  wlan.seq  wlan.fcs_good  wlan.wep.key  \\\n",
       "0        b0:48:7a:e2:62:23          0      2851              1          None   \n",
       "1        38:22:9d:ae:c5:65          0      2159              1          None   \n",
       "2        38:22:9d:c4:8d:28          0       291              1          None   \n",
       "3        00:13:33:87:62:6d          0      3684              1          None   \n",
       "4        28:c6:8e:86:d3:d6          0      3874              1          None   \n",
       "...                    ...        ...       ...            ...           ...   \n",
       "1795570               None       None      None              1          None   \n",
       "1795571  28:c6:8e:86:d3:d6          0      2134              1          None   \n",
       "1795572  28:c6:8e:86:d3:d6          0      1442              1          None   \n",
       "1795573               None       None      None              1          None   \n",
       "1795574  00:13:33:87:62:6d          0      1677              1          None   \n",
       "\n",
       "         data.len   class  \n",
       "0            None  normal  \n",
       "1            None  normal  \n",
       "2            None  normal  \n",
       "3            None  normal  \n",
       "4            None  normal  \n",
       "...           ...     ...  \n",
       "1795570      None  normal  \n",
       "1795571      None  normal  \n",
       "1795572      None  normal  \n",
       "1795573      None  normal  \n",
       "1795574      None  normal  \n",
       "\n",
       "[1795575 rows x 85 columns]"
      ]
     },
     "execution_count": 12,
     "metadata": {},
     "output_type": "execute_result"
    }
   ],
   "source": [
    "awid"
   ]
  },
  {
   "cell_type": "code",
   "execution_count": 13,
   "metadata": {},
   "outputs": [],
   "source": [
    "awid_test.replace({\"?\":None}, inplace=True)"
   ]
  },
  {
   "cell_type": "code",
   "execution_count": 14,
   "metadata": {},
   "outputs": [
    {
     "data": {
      "text/plain": [
       "(70,)"
      ]
     },
     "execution_count": 14,
     "metadata": {},
     "output_type": "execute_result"
    }
   ],
   "source": [
    "null_column2=awid_test.columns[awid_test.isnull().mean()>= 0.51]\n",
    "null_column2.shape"
   ]
  },
  {
   "cell_type": "code",
   "execution_count": 15,
   "metadata": {},
   "outputs": [],
   "source": [
    "awid_test.drop(labels=null_column1, axis=1, inplace=True)"
   ]
  },
  {
   "cell_type": "code",
   "execution_count": 16,
   "metadata": {},
   "outputs": [
    {
     "data": {
      "text/html": [
       "<div>\n",
       "<style scoped>\n",
       "    .dataframe tbody tr th:only-of-type {\n",
       "        vertical-align: middle;\n",
       "    }\n",
       "\n",
       "    .dataframe tbody tr th {\n",
       "        vertical-align: top;\n",
       "    }\n",
       "\n",
       "    .dataframe thead th {\n",
       "        text-align: right;\n",
       "    }\n",
       "</style>\n",
       "<table border=\"1\" class=\"dataframe\">\n",
       "  <thead>\n",
       "    <tr style=\"text-align: right;\">\n",
       "      <th></th>\n",
       "      <th>frame.interface_id</th>\n",
       "      <th>frame.offset_shift</th>\n",
       "      <th>frame.time_epoch</th>\n",
       "      <th>frame.time_delta</th>\n",
       "      <th>frame.time_delta_displayed</th>\n",
       "      <th>frame.time_relative</th>\n",
       "      <th>frame.len</th>\n",
       "      <th>frame.cap_len</th>\n",
       "      <th>frame.marked</th>\n",
       "      <th>frame.ignored</th>\n",
       "      <th>...</th>\n",
       "      <th>wlan.da</th>\n",
       "      <th>wlan.ta</th>\n",
       "      <th>wlan.sa</th>\n",
       "      <th>wlan.bssid</th>\n",
       "      <th>wlan.frag</th>\n",
       "      <th>wlan.seq</th>\n",
       "      <th>wlan.fcs_good</th>\n",
       "      <th>wlan.wep.key</th>\n",
       "      <th>data.len</th>\n",
       "      <th>class</th>\n",
       "    </tr>\n",
       "  </thead>\n",
       "  <tbody>\n",
       "    <tr>\n",
       "      <th>0</th>\n",
       "      <td>0</td>\n",
       "      <td>0.0</td>\n",
       "      <td>1.393668e+09</td>\n",
       "      <td>0.000000</td>\n",
       "      <td>0.000000</td>\n",
       "      <td>0.000000</td>\n",
       "      <td>1552</td>\n",
       "      <td>1552</td>\n",
       "      <td>0</td>\n",
       "      <td>0</td>\n",
       "      <td>...</td>\n",
       "      <td>c0:18:85:94:b6:55</td>\n",
       "      <td>28:c6:8e:86:d3:d6</td>\n",
       "      <td>00:13:33:87:62:6d</td>\n",
       "      <td>28:c6:8e:86:d3:d6</td>\n",
       "      <td>0</td>\n",
       "      <td>2313</td>\n",
       "      <td>1</td>\n",
       "      <td>0</td>\n",
       "      <td>1488</td>\n",
       "      <td>normal</td>\n",
       "    </tr>\n",
       "    <tr>\n",
       "      <th>1</th>\n",
       "      <td>0</td>\n",
       "      <td>0.0</td>\n",
       "      <td>1.393668e+09</td>\n",
       "      <td>0.001056</td>\n",
       "      <td>0.001056</td>\n",
       "      <td>0.001056</td>\n",
       "      <td>1552</td>\n",
       "      <td>1552</td>\n",
       "      <td>0</td>\n",
       "      <td>0</td>\n",
       "      <td>...</td>\n",
       "      <td>c0:18:85:94:b6:55</td>\n",
       "      <td>28:c6:8e:86:d3:d6</td>\n",
       "      <td>00:13:33:87:62:6d</td>\n",
       "      <td>28:c6:8e:86:d3:d6</td>\n",
       "      <td>0</td>\n",
       "      <td>2314</td>\n",
       "      <td>1</td>\n",
       "      <td>0</td>\n",
       "      <td>1488</td>\n",
       "      <td>normal</td>\n",
       "    </tr>\n",
       "    <tr>\n",
       "      <th>2</th>\n",
       "      <td>0</td>\n",
       "      <td>0.0</td>\n",
       "      <td>1.393668e+09</td>\n",
       "      <td>0.000141</td>\n",
       "      <td>0.000141</td>\n",
       "      <td>0.001197</td>\n",
       "      <td>40</td>\n",
       "      <td>40</td>\n",
       "      <td>0</td>\n",
       "      <td>0</td>\n",
       "      <td>...</td>\n",
       "      <td>None</td>\n",
       "      <td>None</td>\n",
       "      <td>None</td>\n",
       "      <td>None</td>\n",
       "      <td>None</td>\n",
       "      <td>None</td>\n",
       "      <td>1</td>\n",
       "      <td>None</td>\n",
       "      <td>None</td>\n",
       "      <td>normal</td>\n",
       "    </tr>\n",
       "    <tr>\n",
       "      <th>3</th>\n",
       "      <td>0</td>\n",
       "      <td>0.0</td>\n",
       "      <td>1.393668e+09</td>\n",
       "      <td>0.000156</td>\n",
       "      <td>0.000156</td>\n",
       "      <td>0.001353</td>\n",
       "      <td>40</td>\n",
       "      <td>40</td>\n",
       "      <td>0</td>\n",
       "      <td>0</td>\n",
       "      <td>...</td>\n",
       "      <td>None</td>\n",
       "      <td>None</td>\n",
       "      <td>None</td>\n",
       "      <td>None</td>\n",
       "      <td>None</td>\n",
       "      <td>None</td>\n",
       "      <td>1</td>\n",
       "      <td>None</td>\n",
       "      <td>None</td>\n",
       "      <td>normal</td>\n",
       "    </tr>\n",
       "    <tr>\n",
       "      <th>4</th>\n",
       "      <td>0</td>\n",
       "      <td>0.0</td>\n",
       "      <td>1.393668e+09</td>\n",
       "      <td>0.001842</td>\n",
       "      <td>0.001842</td>\n",
       "      <td>0.003195</td>\n",
       "      <td>1552</td>\n",
       "      <td>1552</td>\n",
       "      <td>0</td>\n",
       "      <td>0</td>\n",
       "      <td>...</td>\n",
       "      <td>c0:18:85:94:b6:55</td>\n",
       "      <td>28:c6:8e:86:d3:d6</td>\n",
       "      <td>00:13:33:87:62:6d</td>\n",
       "      <td>28:c6:8e:86:d3:d6</td>\n",
       "      <td>0</td>\n",
       "      <td>2318</td>\n",
       "      <td>1</td>\n",
       "      <td>0</td>\n",
       "      <td>1488</td>\n",
       "      <td>normal</td>\n",
       "    </tr>\n",
       "    <tr>\n",
       "      <th>...</th>\n",
       "      <td>...</td>\n",
       "      <td>...</td>\n",
       "      <td>...</td>\n",
       "      <td>...</td>\n",
       "      <td>...</td>\n",
       "      <td>...</td>\n",
       "      <td>...</td>\n",
       "      <td>...</td>\n",
       "      <td>...</td>\n",
       "      <td>...</td>\n",
       "      <td>...</td>\n",
       "      <td>...</td>\n",
       "      <td>...</td>\n",
       "      <td>...</td>\n",
       "      <td>...</td>\n",
       "      <td>...</td>\n",
       "      <td>...</td>\n",
       "      <td>...</td>\n",
       "      <td>...</td>\n",
       "      <td>...</td>\n",
       "      <td>...</td>\n",
       "    </tr>\n",
       "    <tr>\n",
       "      <th>575638</th>\n",
       "      <td>0</td>\n",
       "      <td>0.0</td>\n",
       "      <td>1.393669e+09</td>\n",
       "      <td>0.000643</td>\n",
       "      <td>0.000643</td>\n",
       "      <td>1200.261948</td>\n",
       "      <td>40</td>\n",
       "      <td>40</td>\n",
       "      <td>0</td>\n",
       "      <td>0</td>\n",
       "      <td>...</td>\n",
       "      <td>None</td>\n",
       "      <td>None</td>\n",
       "      <td>None</td>\n",
       "      <td>None</td>\n",
       "      <td>None</td>\n",
       "      <td>None</td>\n",
       "      <td>1</td>\n",
       "      <td>None</td>\n",
       "      <td>None</td>\n",
       "      <td>normal</td>\n",
       "    </tr>\n",
       "    <tr>\n",
       "      <th>575639</th>\n",
       "      <td>0</td>\n",
       "      <td>0.0</td>\n",
       "      <td>1.393669e+09</td>\n",
       "      <td>0.005485</td>\n",
       "      <td>0.005485</td>\n",
       "      <td>1200.267433</td>\n",
       "      <td>261</td>\n",
       "      <td>261</td>\n",
       "      <td>0</td>\n",
       "      <td>0</td>\n",
       "      <td>...</td>\n",
       "      <td>ff:ff:ff:ff:ff:ff</td>\n",
       "      <td>b0:48:7a:e2:62:23</td>\n",
       "      <td>b0:48:7a:e2:62:23</td>\n",
       "      <td>b0:48:7a:e2:62:23</td>\n",
       "      <td>0</td>\n",
       "      <td>801</td>\n",
       "      <td>1</td>\n",
       "      <td>None</td>\n",
       "      <td>None</td>\n",
       "      <td>normal</td>\n",
       "    </tr>\n",
       "    <tr>\n",
       "      <th>575640</th>\n",
       "      <td>0</td>\n",
       "      <td>0.0</td>\n",
       "      <td>1.393669e+09</td>\n",
       "      <td>0.008112</td>\n",
       "      <td>0.008112</td>\n",
       "      <td>1200.275545</td>\n",
       "      <td>124</td>\n",
       "      <td>124</td>\n",
       "      <td>0</td>\n",
       "      <td>0</td>\n",
       "      <td>...</td>\n",
       "      <td>00:18:de:1a:c1:df</td>\n",
       "      <td>28:c6:8e:86:d3:d6</td>\n",
       "      <td>00:13:33:87:62:6d</td>\n",
       "      <td>28:c6:8e:86:d3:d6</td>\n",
       "      <td>0</td>\n",
       "      <td>1407</td>\n",
       "      <td>1</td>\n",
       "      <td>0</td>\n",
       "      <td>60</td>\n",
       "      <td>normal</td>\n",
       "    </tr>\n",
       "    <tr>\n",
       "      <th>575641</th>\n",
       "      <td>0</td>\n",
       "      <td>0.0</td>\n",
       "      <td>1.393669e+09</td>\n",
       "      <td>0.006147</td>\n",
       "      <td>0.006147</td>\n",
       "      <td>1200.281692</td>\n",
       "      <td>1524</td>\n",
       "      <td>1524</td>\n",
       "      <td>0</td>\n",
       "      <td>0</td>\n",
       "      <td>...</td>\n",
       "      <td>c0:18:85:94:b6:55</td>\n",
       "      <td>28:c6:8e:86:d3:d6</td>\n",
       "      <td>00:13:33:87:62:6d</td>\n",
       "      <td>28:c6:8e:86:d3:d6</td>\n",
       "      <td>0</td>\n",
       "      <td>420</td>\n",
       "      <td>1</td>\n",
       "      <td>0</td>\n",
       "      <td>1460</td>\n",
       "      <td>normal</td>\n",
       "    </tr>\n",
       "    <tr>\n",
       "      <th>575642</th>\n",
       "      <td>0</td>\n",
       "      <td>0.0</td>\n",
       "      <td>1.393669e+09</td>\n",
       "      <td>0.008180</td>\n",
       "      <td>0.008180</td>\n",
       "      <td>1200.289872</td>\n",
       "      <td>124</td>\n",
       "      <td>124</td>\n",
       "      <td>0</td>\n",
       "      <td>0</td>\n",
       "      <td>...</td>\n",
       "      <td>00:13:33:87:62:6d</td>\n",
       "      <td>00:18:de:1a:c1:df</td>\n",
       "      <td>00:18:de:1a:c1:df</td>\n",
       "      <td>28:c6:8e:86:d3:d6</td>\n",
       "      <td>0</td>\n",
       "      <td>1461</td>\n",
       "      <td>1</td>\n",
       "      <td>0</td>\n",
       "      <td>60</td>\n",
       "      <td>normal</td>\n",
       "    </tr>\n",
       "  </tbody>\n",
       "</table>\n",
       "<p>575643 rows × 85 columns</p>\n",
       "</div>"
      ],
      "text/plain": [
       "        frame.interface_id  frame.offset_shift  frame.time_epoch  \\\n",
       "0                        0                 0.0      1.393668e+09   \n",
       "1                        0                 0.0      1.393668e+09   \n",
       "2                        0                 0.0      1.393668e+09   \n",
       "3                        0                 0.0      1.393668e+09   \n",
       "4                        0                 0.0      1.393668e+09   \n",
       "...                    ...                 ...               ...   \n",
       "575638                   0                 0.0      1.393669e+09   \n",
       "575639                   0                 0.0      1.393669e+09   \n",
       "575640                   0                 0.0      1.393669e+09   \n",
       "575641                   0                 0.0      1.393669e+09   \n",
       "575642                   0                 0.0      1.393669e+09   \n",
       "\n",
       "        frame.time_delta  frame.time_delta_displayed  frame.time_relative  \\\n",
       "0               0.000000                    0.000000             0.000000   \n",
       "1               0.001056                    0.001056             0.001056   \n",
       "2               0.000141                    0.000141             0.001197   \n",
       "3               0.000156                    0.000156             0.001353   \n",
       "4               0.001842                    0.001842             0.003195   \n",
       "...                  ...                         ...                  ...   \n",
       "575638          0.000643                    0.000643          1200.261948   \n",
       "575639          0.005485                    0.005485          1200.267433   \n",
       "575640          0.008112                    0.008112          1200.275545   \n",
       "575641          0.006147                    0.006147          1200.281692   \n",
       "575642          0.008180                    0.008180          1200.289872   \n",
       "\n",
       "        frame.len  frame.cap_len  frame.marked  frame.ignored  ...  \\\n",
       "0            1552           1552             0              0  ...   \n",
       "1            1552           1552             0              0  ...   \n",
       "2              40             40             0              0  ...   \n",
       "3              40             40             0              0  ...   \n",
       "4            1552           1552             0              0  ...   \n",
       "...           ...            ...           ...            ...  ...   \n",
       "575638         40             40             0              0  ...   \n",
       "575639        261            261             0              0  ...   \n",
       "575640        124            124             0              0  ...   \n",
       "575641       1524           1524             0              0  ...   \n",
       "575642        124            124             0              0  ...   \n",
       "\n",
       "                  wlan.da            wlan.ta            wlan.sa  \\\n",
       "0       c0:18:85:94:b6:55  28:c6:8e:86:d3:d6  00:13:33:87:62:6d   \n",
       "1       c0:18:85:94:b6:55  28:c6:8e:86:d3:d6  00:13:33:87:62:6d   \n",
       "2                    None               None               None   \n",
       "3                    None               None               None   \n",
       "4       c0:18:85:94:b6:55  28:c6:8e:86:d3:d6  00:13:33:87:62:6d   \n",
       "...                   ...                ...                ...   \n",
       "575638               None               None               None   \n",
       "575639  ff:ff:ff:ff:ff:ff  b0:48:7a:e2:62:23  b0:48:7a:e2:62:23   \n",
       "575640  00:18:de:1a:c1:df  28:c6:8e:86:d3:d6  00:13:33:87:62:6d   \n",
       "575641  c0:18:85:94:b6:55  28:c6:8e:86:d3:d6  00:13:33:87:62:6d   \n",
       "575642  00:13:33:87:62:6d  00:18:de:1a:c1:df  00:18:de:1a:c1:df   \n",
       "\n",
       "               wlan.bssid  wlan.frag  wlan.seq  wlan.fcs_good  wlan.wep.key  \\\n",
       "0       28:c6:8e:86:d3:d6          0      2313              1             0   \n",
       "1       28:c6:8e:86:d3:d6          0      2314              1             0   \n",
       "2                    None       None      None              1          None   \n",
       "3                    None       None      None              1          None   \n",
       "4       28:c6:8e:86:d3:d6          0      2318              1             0   \n",
       "...                   ...        ...       ...            ...           ...   \n",
       "575638               None       None      None              1          None   \n",
       "575639  b0:48:7a:e2:62:23          0       801              1          None   \n",
       "575640  28:c6:8e:86:d3:d6          0      1407              1             0   \n",
       "575641  28:c6:8e:86:d3:d6          0       420              1             0   \n",
       "575642  28:c6:8e:86:d3:d6          0      1461              1             0   \n",
       "\n",
       "        data.len   class  \n",
       "0           1488  normal  \n",
       "1           1488  normal  \n",
       "2           None  normal  \n",
       "3           None  normal  \n",
       "4           1488  normal  \n",
       "...          ...     ...  \n",
       "575638      None  normal  \n",
       "575639      None  normal  \n",
       "575640        60  normal  \n",
       "575641      1460  normal  \n",
       "575642        60  normal  \n",
       "\n",
       "[575643 rows x 85 columns]"
      ]
     },
     "execution_count": 16,
     "metadata": {},
     "output_type": "execute_result"
    }
   ],
   "source": [
    "awid_test"
   ]
  },
  {
   "cell_type": "code",
   "execution_count": 17,
   "metadata": {},
   "outputs": [],
   "source": [
    "import numpy as np  #try to replace nan with mean/std deiviation\n",
    "\n",
    "awid = awid.replace(np.nan, 0)\n",
    "awid_test=awid_test.replace(np.nan,0)"
   ]
  },
  {
   "cell_type": "code",
   "execution_count": 18,
   "metadata": {},
   "outputs": [],
   "source": [
    "# awid_target = awid['class']\n",
    "# awid_test_target = awid_test[\"class\"]\n",
    "# awid = awid.drop(\"class\" , axis =1)\n",
    "# awid_test = awid_test.drop('class', axis =1)\n",
    "# # awid = pd.get_dummies(awid)\n",
    "# # awid_test = pd.get_dummies(awid_test)\n",
    "\n",
    "\n",
    "# print('Training Features shape: ', awid.shape)\n",
    "# print('Testing Features shape: ', awid_test.shape)"
   ]
  },
  {
   "cell_type": "code",
   "execution_count": 19,
   "metadata": {},
   "outputs": [],
   "source": [
    "def remove_constant_value_features(awid):\n",
    "    return [e for e in awid.columns if awid[e].nunique() == 1]"
   ]
  },
  {
   "cell_type": "code",
   "execution_count": 20,
   "metadata": {},
   "outputs": [
    {
     "data": {
      "text/plain": [
       "['frame.interface_id',\n",
       " 'frame.offset_shift',\n",
       " 'frame.marked',\n",
       " 'frame.ignored',\n",
       " 'radiotap.version',\n",
       " 'radiotap.pad',\n",
       " 'radiotap.present.rate',\n",
       " 'radiotap.present.fhss',\n",
       " 'radiotap.present.dbm_antnoise',\n",
       " 'radiotap.present.lock_quality',\n",
       " 'radiotap.present.tx_attenuation',\n",
       " 'radiotap.present.db_tx_attenuation',\n",
       " 'radiotap.present.dbm_tx_power',\n",
       " 'radiotap.present.db_antsignal',\n",
       " 'radiotap.present.db_antnoise',\n",
       " 'radiotap.present.xchannel',\n",
       " 'radiotap.present.mcs',\n",
       " 'radiotap.present.ampdu',\n",
       " 'radiotap.present.vht',\n",
       " 'radiotap.present.reserved',\n",
       " 'radiotap.present.rtap_ns',\n",
       " 'radiotap.present.vendor_ns',\n",
       " 'radiotap.present.ext',\n",
       " 'wlan.fc.version',\n",
       " 'wlan.fc.order']"
      ]
     },
     "execution_count": 20,
     "metadata": {},
     "output_type": "execute_result"
    }
   ],
   "source": [
    "drop_col = remove_constant_value_features(awid)\n",
    "drop_col"
   ]
  },
  {
   "cell_type": "code",
   "execution_count": 21,
   "metadata": {},
   "outputs": [],
   "source": [
    "awid.drop(labels=drop_col, axis=1, inplace=True)"
   ]
  },
  {
   "cell_type": "code",
   "execution_count": 22,
   "metadata": {},
   "outputs": [],
   "source": [
    "def remove_constant_value_features(awid_test):\n",
    "    return [e for e in awid_test.columns if awid_test[e].nunique() == 1]"
   ]
  },
  {
   "cell_type": "code",
   "execution_count": 23,
   "metadata": {},
   "outputs": [
    {
     "data": {
      "text/plain": [
       "['frame.interface_id',\n",
       " 'frame.offset_shift',\n",
       " 'frame.marked',\n",
       " 'frame.ignored',\n",
       " 'radiotap.version',\n",
       " 'radiotap.pad',\n",
       " 'radiotap.present.rate',\n",
       " 'radiotap.present.fhss',\n",
       " 'radiotap.present.dbm_antnoise',\n",
       " 'radiotap.present.lock_quality',\n",
       " 'radiotap.present.tx_attenuation',\n",
       " 'radiotap.present.db_tx_attenuation',\n",
       " 'radiotap.present.dbm_tx_power',\n",
       " 'radiotap.present.db_antsignal',\n",
       " 'radiotap.present.db_antnoise',\n",
       " 'radiotap.present.xchannel',\n",
       " 'radiotap.present.mcs',\n",
       " 'radiotap.present.ampdu',\n",
       " 'radiotap.present.vht',\n",
       " 'radiotap.present.reserved',\n",
       " 'radiotap.present.rtap_ns',\n",
       " 'radiotap.present.vendor_ns',\n",
       " 'radiotap.present.ext',\n",
       " 'wlan.fc.version',\n",
       " 'wlan.fc.order']"
      ]
     },
     "execution_count": 23,
     "metadata": {},
     "output_type": "execute_result"
    }
   ],
   "source": [
    "drop_col = remove_constant_value_features(awid_test)\n",
    "drop_col"
   ]
  },
  {
   "cell_type": "code",
   "execution_count": 24,
   "metadata": {},
   "outputs": [],
   "source": [
    "awid_test.drop(labels=drop_col, axis=1, inplace=True)"
   ]
  },
  {
   "cell_type": "code",
   "execution_count": 25,
   "metadata": {},
   "outputs": [
    {
     "data": {
      "text/plain": [
       "(1795575, 60)"
      ]
     },
     "execution_count": 25,
     "metadata": {},
     "output_type": "execute_result"
    }
   ],
   "source": [
    "awid.shape"
   ]
  },
  {
   "cell_type": "code",
   "execution_count": 26,
   "metadata": {},
   "outputs": [
    {
     "data": {
      "text/plain": [
       "(575643, 60)"
      ]
     },
     "execution_count": 26,
     "metadata": {},
     "output_type": "execute_result"
    }
   ],
   "source": [
    "awid_test.shape"
   ]
  },
  {
   "cell_type": "code",
   "execution_count": 27,
   "metadata": {},
   "outputs": [
    {
     "name": "stdout",
     "output_type": "stream",
     "text": [
      "radiotap.mactime 2101598203 <class 'str'>\n",
      "radiotap.flags.cfp 0 <class 'str'>\n",
      "radiotap.flags.preamble 0 <class 'str'>\n",
      "radiotap.flags.wep 0 <class 'str'>\n",
      "radiotap.flags.frag 0 <class 'str'>\n",
      "radiotap.flags.fcs 1 <class 'str'>\n",
      "radiotap.flags.datapad 0 <class 'str'>\n",
      "radiotap.flags.badfcs 0 <class 'str'>\n",
      "radiotap.flags.shortgi 0 <class 'str'>\n",
      "radiotap.channel.freq 2437 <class 'str'>\n",
      "radiotap.channel.type.turbo 0 <class 'str'>\n",
      "radiotap.channel.type.cck 1 <class 'str'>\n",
      "radiotap.channel.type.ofdm 0 <class 'str'>\n",
      "radiotap.channel.type.2ghz 1 <class 'str'>\n",
      "radiotap.channel.type.5ghz 0 <class 'str'>\n",
      "radiotap.channel.type.passive 0 <class 'str'>\n",
      "radiotap.channel.type.dynamic 0 <class 'str'>\n",
      "radiotap.channel.type.gfsk 0 <class 'str'>\n",
      "radiotap.channel.type.gsm 0 <class 'str'>\n",
      "radiotap.channel.type.sturbo 0 <class 'str'>\n",
      "radiotap.channel.type.half 0 <class 'str'>\n",
      "radiotap.channel.type.quarter 0 <class 'str'>\n",
      "radiotap.dbm_antsignal -47 <class 'str'>\n",
      "radiotap.antenna 1 <class 'str'>\n",
      "radiotap.rxflags.badplcp 0 <class 'str'>\n",
      "wlan.fc.type_subtype 0x08 <class 'str'>\n",
      "wlan.fc.ds 0x00 <class 'str'>\n",
      "wlan.duration 0 <class 'str'>\n",
      "wlan.ra ff:ff:ff:ff:ff:ff <class 'str'>\n",
      "wlan.da ff:ff:ff:ff:ff:ff <class 'str'>\n",
      "wlan.ta b0:48:7a:e2:62:23 <class 'str'>\n",
      "wlan.sa b0:48:7a:e2:62:23 <class 'str'>\n",
      "wlan.bssid b0:48:7a:e2:62:23 <class 'str'>\n",
      "wlan.frag 0 <class 'str'>\n",
      "wlan.seq 2851 <class 'str'>\n",
      "wlan.fcs_good 1 <class 'str'>\n",
      "class normal <class 'str'>\n"
     ]
    }
   ],
   "source": [
    "cols=[]\n",
    "str_colm=[]\n",
    "for i in range(len(awid.columns)):\n",
    "    if str(type(awid.iloc[0,i]))==\"<class 'str'>\":\n",
    "        str_colm.append(awid.columns[i])\n",
    "        print(awid.columns[i],awid.iloc[0,i],type(awid.iloc[0,i]))\n",
    "    else:\n",
    "        cols.append(awid.columns[i])"
   ]
  },
  {
   "cell_type": "code",
   "execution_count": 28,
   "metadata": {},
   "outputs": [],
   "source": [
    "import re\n",
    "\n",
    "def mac_to_int(mac):\n",
    "    res = re.match('^((?:(?:[0-9a-f]{2}):){5}[0-9a-f]{2})$', mac.lower())\n",
    "    if res is None:\n",
    "        raise ValueError('invalid mac address')\n",
    "    return int(res.group(0).replace(':', ''), 16)"
   ]
  },
  {
   "cell_type": "code",
   "execution_count": 29,
   "metadata": {
    "scrolled": true
   },
   "outputs": [
    {
     "name": "stdout",
     "output_type": "stream",
     "text": [
      "<class 'str'> ff:ff:ff:ff:ff:ff\n",
      "<class 'str'> ff:ff:ff:ff:ff:ff\n",
      "<class 'str'> ff:ff:ff:ff:ff:ff\n",
      "<class 'str'> ff:ff:ff:ff:ff:ff\n",
      "<class 'str'> 28:c6:8e:86:d3:d6\n"
     ]
    }
   ],
   "source": [
    "for i in range(0,5):\n",
    "    print(type(awid['wlan.ra'][i]),awid['wlan.ra'][i])"
   ]
  },
  {
   "cell_type": "code",
   "execution_count": 30,
   "metadata": {},
   "outputs": [],
   "source": [
    "for i in range(0,len(awid['wlan.ra'])):\n",
    "    if str(type(awid['wlan.ra'][i]))==\"<class 'str'>\":\n",
    "        x=mac_to_int(awid['wlan.ra'][i])\n",
    "        awid['wlan.ra'].replace({awid['wlan.ra'][i]:x}, inplace=True)"
   ]
  },
  {
   "cell_type": "code",
   "execution_count": 31,
   "metadata": {},
   "outputs": [],
   "source": [
    "awid['wlan.ra']=awid['wlan.ra'].astype('int')"
   ]
  },
  {
   "cell_type": "code",
   "execution_count": 32,
   "metadata": {},
   "outputs": [
    {
     "name": "stdout",
     "output_type": "stream",
     "text": [
      "<class 'numpy.int64'> 281474976710655\n",
      "<class 'numpy.int64'> 281474976710655\n",
      "<class 'numpy.int64'> 281474976710655\n",
      "<class 'numpy.int64'> 281474976710655\n",
      "<class 'numpy.int64'> 44833259836374\n",
      "<class 'numpy.int64'> 162083440591\n",
      "<class 'numpy.int64'> 281474976710655\n",
      "<class 'numpy.int64'> 211211552863829\n",
      "<class 'numpy.int64'> 281474976710655\n",
      "<class 'numpy.int64'> 281474976710655\n"
     ]
    }
   ],
   "source": [
    "for i in range(0,10):\n",
    "    print(type(awid['wlan.ra'][i]),awid['wlan.ra'][i])"
   ]
  },
  {
   "cell_type": "code",
   "execution_count": null,
   "metadata": {},
   "outputs": [],
   "source": []
  },
  {
   "cell_type": "code",
   "execution_count": 33,
   "metadata": {
    "scrolled": true
   },
   "outputs": [
    {
     "name": "stdout",
     "output_type": "stream",
     "text": [
      "<class 'str'> ff:ff:ff:ff:ff:ff\n",
      "<class 'str'> ff:ff:ff:ff:ff:ff\n",
      "<class 'str'> ff:ff:ff:ff:ff:ff\n",
      "<class 'str'> ff:ff:ff:ff:ff:ff\n",
      "<class 'str'> 28:c6:8e:86:d3:d6\n"
     ]
    }
   ],
   "source": [
    "for i in range(0,5):\n",
    "    print(type(awid['wlan.da'][i]),awid['wlan.da'][i])"
   ]
  },
  {
   "cell_type": "code",
   "execution_count": 34,
   "metadata": {},
   "outputs": [],
   "source": [
    "for i in range(0,len(awid['wlan.da'])):\n",
    "    if str(type(awid['wlan.da'][i]))==\"<class 'str'>\":\n",
    "        x=mac_to_int(awid['wlan.da'][i])\n",
    "        awid['wlan.da'].replace({awid['wlan.da'][i]:x}, inplace=True)"
   ]
  },
  {
   "cell_type": "code",
   "execution_count": 35,
   "metadata": {},
   "outputs": [],
   "source": [
    "awid['wlan.da']=awid['wlan.da'].astype('int')"
   ]
  },
  {
   "cell_type": "code",
   "execution_count": 36,
   "metadata": {},
   "outputs": [
    {
     "name": "stdout",
     "output_type": "stream",
     "text": [
      "<class 'numpy.int64'> 281474976710655\n",
      "<class 'numpy.int64'> 281474976710655\n",
      "<class 'numpy.int64'> 281474976710655\n",
      "<class 'numpy.int64'> 281474976710655\n",
      "<class 'numpy.int64'> 44833259836374\n",
      "<class 'numpy.int64'> 0\n",
      "<class 'numpy.int64'> 281474976710655\n",
      "<class 'numpy.int64'> 0\n",
      "<class 'numpy.int64'> 281474976710655\n",
      "<class 'numpy.int64'> 281474976710655\n"
     ]
    }
   ],
   "source": [
    "for i in range(0,10):\n",
    "    print(type(awid['wlan.da'][i]),awid['wlan.da'][i])"
   ]
  },
  {
   "cell_type": "code",
   "execution_count": null,
   "metadata": {},
   "outputs": [],
   "source": []
  },
  {
   "cell_type": "code",
   "execution_count": 37,
   "metadata": {
    "scrolled": false
   },
   "outputs": [
    {
     "name": "stdout",
     "output_type": "stream",
     "text": [
      "<class 'str'> b0:48:7a:e2:62:23\n",
      "<class 'str'> 38:22:9d:ae:c5:65\n",
      "<class 'str'> 38:22:9d:c4:8d:28\n",
      "<class 'str'> 00:13:33:87:62:6d\n",
      "<class 'str'> 00:25:bc:ed:07:cf\n"
     ]
    }
   ],
   "source": [
    "for i in range(0,5):\n",
    "    print(type(awid['wlan.ta'][i]),awid['wlan.ta'][i])"
   ]
  },
  {
   "cell_type": "code",
   "execution_count": 38,
   "metadata": {},
   "outputs": [],
   "source": [
    "for i in range(0,len(awid['wlan.ta'])):\n",
    "    if str(type(awid['wlan.ta'][i]))==\"<class 'str'>\":\n",
    "        x=mac_to_int(awid['wlan.ta'][i])\n",
    "        awid['wlan.ta'].replace({awid['wlan.ta'][i]:x}, inplace=True)"
   ]
  },
  {
   "cell_type": "code",
   "execution_count": 39,
   "metadata": {},
   "outputs": [],
   "source": [
    "awid['wlan.ta']=awid['wlan.ta'].astype('int')"
   ]
  },
  {
   "cell_type": "code",
   "execution_count": 40,
   "metadata": {},
   "outputs": [
    {
     "name": "stdout",
     "output_type": "stream",
     "text": [
      "<class 'numpy.int64'> 193825345790499\n",
      "<class 'numpy.int64'> 61721325520229\n",
      "<class 'numpy.int64'> 61721326947624\n",
      "<class 'numpy.int64'> 82468889197\n",
      "<class 'numpy.int64'> 162083440591\n",
      "<class 'numpy.int64'> 0\n",
      "<class 'numpy.int64'> 193825345790499\n",
      "<class 'numpy.int64'> 0\n",
      "<class 'numpy.int64'> 61721325520229\n",
      "<class 'numpy.int64'> 61721326947624\n"
     ]
    }
   ],
   "source": [
    "for i in range(0,10):\n",
    "    print(type(awid['wlan.ta'][i]),awid['wlan.ta'][i])"
   ]
  },
  {
   "cell_type": "code",
   "execution_count": 41,
   "metadata": {
    "scrolled": false
   },
   "outputs": [
    {
     "name": "stdout",
     "output_type": "stream",
     "text": [
      "<class 'str'> b0:48:7a:e2:62:23\n",
      "<class 'str'> 38:22:9d:ae:c5:65\n",
      "<class 'str'> 38:22:9d:c4:8d:28\n",
      "<class 'str'> 00:13:33:87:62:6d\n",
      "<class 'str'> 00:25:bc:ed:07:cf\n"
     ]
    }
   ],
   "source": [
    "for i in range(0,5):\n",
    "    print(type(awid['wlan.sa'][i]),awid['wlan.sa'][i])"
   ]
  },
  {
   "cell_type": "code",
   "execution_count": 42,
   "metadata": {},
   "outputs": [],
   "source": [
    "for i in range(0,len(awid['wlan.sa'])):\n",
    "    if str(type(awid['wlan.sa'][i]))==\"<class 'str'>\":\n",
    "        x=mac_to_int(awid['wlan.sa'][i])\n",
    "        awid['wlan.sa'].replace({awid['wlan.sa'][i]:x}, inplace=True)"
   ]
  },
  {
   "cell_type": "code",
   "execution_count": 43,
   "metadata": {},
   "outputs": [],
   "source": [
    "awid['wlan.sa']=awid['wlan.sa'].astype('int')"
   ]
  },
  {
   "cell_type": "code",
   "execution_count": 44,
   "metadata": {},
   "outputs": [
    {
     "name": "stdout",
     "output_type": "stream",
     "text": [
      "<class 'numpy.int64'> 193825345790499\n",
      "<class 'numpy.int64'> 61721325520229\n",
      "<class 'numpy.int64'> 61721326947624\n",
      "<class 'numpy.int64'> 82468889197\n",
      "<class 'numpy.int64'> 162083440591\n",
      "<class 'numpy.int64'> 0\n",
      "<class 'numpy.int64'> 193825345790499\n",
      "<class 'numpy.int64'> 0\n",
      "<class 'numpy.int64'> 61721325520229\n",
      "<class 'numpy.int64'> 61721326947624\n"
     ]
    }
   ],
   "source": [
    "for i in range(0,10):\n",
    "    print(type(awid['wlan.sa'][i]),awid['wlan.sa'][i])"
   ]
  },
  {
   "cell_type": "code",
   "execution_count": null,
   "metadata": {},
   "outputs": [],
   "source": []
  },
  {
   "cell_type": "code",
   "execution_count": 45,
   "metadata": {
    "scrolled": false
   },
   "outputs": [
    {
     "name": "stdout",
     "output_type": "stream",
     "text": [
      "<class 'str'> b0:48:7a:e2:62:23\n",
      "<class 'str'> 38:22:9d:ae:c5:65\n",
      "<class 'str'> 38:22:9d:c4:8d:28\n",
      "<class 'str'> 00:13:33:87:62:6d\n",
      "<class 'str'> 28:c6:8e:86:d3:d6\n"
     ]
    }
   ],
   "source": [
    "for i in range(0,5):\n",
    "    print(type(awid['wlan.bssid'][i]),awid['wlan.bssid'][i])"
   ]
  },
  {
   "cell_type": "code",
   "execution_count": 46,
   "metadata": {},
   "outputs": [],
   "source": [
    "for i in range(0,len(awid['wlan.bssid'])):\n",
    "    if str(type(awid['wlan.bssid'][i]))==\"<class 'str'>\":\n",
    "        x=mac_to_int(awid['wlan.bssid'][i])\n",
    "        awid['wlan.bssid'].replace({awid['wlan.bssid'][i]:x}, inplace=True)"
   ]
  },
  {
   "cell_type": "code",
   "execution_count": 47,
   "metadata": {},
   "outputs": [],
   "source": [
    "awid['wlan.bssid']=awid['wlan.bssid'].astype('int')"
   ]
  },
  {
   "cell_type": "code",
   "execution_count": 48,
   "metadata": {},
   "outputs": [
    {
     "name": "stdout",
     "output_type": "stream",
     "text": [
      "<class 'numpy.int64'> 193825345790499\n",
      "<class 'numpy.int64'> 61721325520229\n",
      "<class 'numpy.int64'> 61721326947624\n",
      "<class 'numpy.int64'> 82468889197\n",
      "<class 'numpy.int64'> 44833259836374\n",
      "<class 'numpy.int64'> 0\n",
      "<class 'numpy.int64'> 193825345790499\n",
      "<class 'numpy.int64'> 0\n",
      "<class 'numpy.int64'> 61721325520229\n",
      "<class 'numpy.int64'> 61721326947624\n"
     ]
    }
   ],
   "source": [
    "for i in range(0,10):\n",
    "    print(type(awid['wlan.bssid'][i]),awid['wlan.bssid'][i])"
   ]
  },
  {
   "cell_type": "code",
   "execution_count": null,
   "metadata": {},
   "outputs": [],
   "source": []
  },
  {
   "cell_type": "code",
   "execution_count": 49,
   "metadata": {
    "scrolled": true
   },
   "outputs": [
    {
     "name": "stdout",
     "output_type": "stream",
     "text": [
      "<class 'str'> c0:18:85:94:b6:55\n",
      "<class 'str'> c0:18:85:94:b6:55\n",
      "<class 'str'> c0:18:85:94:b6:55\n",
      "<class 'str'> c0:18:85:94:b6:55\n",
      "<class 'str'> c0:18:85:94:b6:55\n"
     ]
    }
   ],
   "source": [
    "for i in range(0,5):\n",
    "    print(type(awid_test['wlan.ra'][i]),awid_test['wlan.ra'][i])"
   ]
  },
  {
   "cell_type": "code",
   "execution_count": 50,
   "metadata": {},
   "outputs": [],
   "source": [
    "for i in range(0,len(awid_test['wlan.ra'])):\n",
    "    if str(type(awid_test['wlan.ra'][i]))==\"<class 'str'>\":\n",
    "        x=mac_to_int(awid_test['wlan.ra'][i])\n",
    "        awid_test['wlan.ra'].replace({awid_test['wlan.ra'][i]:x}, inplace=True)"
   ]
  },
  {
   "cell_type": "code",
   "execution_count": 51,
   "metadata": {},
   "outputs": [],
   "source": [
    "awid_test['wlan.ra']=awid_test['wlan.ra'].astype('int')"
   ]
  },
  {
   "cell_type": "code",
   "execution_count": 52,
   "metadata": {},
   "outputs": [
    {
     "name": "stdout",
     "output_type": "stream",
     "text": [
      "<class 'numpy.int64'> 211211552863829\n",
      "<class 'numpy.int64'> 211211552863829\n",
      "<class 'numpy.int64'> 211211552863829\n",
      "<class 'numpy.int64'> 211211552863829\n",
      "<class 'numpy.int64'> 211211552863829\n",
      "<class 'numpy.int64'> 211211552863829\n",
      "<class 'numpy.int64'> 211211552863829\n",
      "<class 'numpy.int64'> 211211552863829\n",
      "<class 'numpy.int64'> 211211552863829\n",
      "<class 'numpy.int64'> 211211552863829\n"
     ]
    }
   ],
   "source": [
    "for i in range(0,10):\n",
    "    print(type(awid_test['wlan.ra'][i]),awid_test['wlan.ra'][i])"
   ]
  },
  {
   "cell_type": "code",
   "execution_count": null,
   "metadata": {},
   "outputs": [],
   "source": []
  },
  {
   "cell_type": "code",
   "execution_count": 53,
   "metadata": {
    "scrolled": true
   },
   "outputs": [
    {
     "name": "stdout",
     "output_type": "stream",
     "text": [
      "<class 'str'> c0:18:85:94:b6:55\n",
      "<class 'str'> c0:18:85:94:b6:55\n",
      "<class 'int'> 0\n",
      "<class 'int'> 0\n",
      "<class 'str'> c0:18:85:94:b6:55\n"
     ]
    }
   ],
   "source": [
    "for i in range(0,5):\n",
    "    print(type(awid_test['wlan.da'][i]),awid_test['wlan.da'][i])"
   ]
  },
  {
   "cell_type": "code",
   "execution_count": 54,
   "metadata": {},
   "outputs": [],
   "source": [
    "for i in range(0,len(awid_test['wlan.da'])):\n",
    "    if str(type(awid_test['wlan.da'][i]))==\"<class 'str'>\":\n",
    "        x=mac_to_int(awid_test['wlan.da'][i])\n",
    "        awid_test['wlan.da'].replace({awid_test['wlan.da'][i]:x}, inplace=True)"
   ]
  },
  {
   "cell_type": "code",
   "execution_count": 55,
   "metadata": {},
   "outputs": [],
   "source": [
    "awid_test['wlan.da']=awid_test['wlan.da'].astype('int')"
   ]
  },
  {
   "cell_type": "code",
   "execution_count": 56,
   "metadata": {},
   "outputs": [
    {
     "name": "stdout",
     "output_type": "stream",
     "text": [
      "<class 'numpy.int64'> 211211552863829\n",
      "<class 'numpy.int64'> 211211552863829\n",
      "<class 'numpy.int64'> 0\n",
      "<class 'numpy.int64'> 0\n",
      "<class 'numpy.int64'> 211211552863829\n",
      "<class 'numpy.int64'> 211211552863829\n",
      "<class 'numpy.int64'> 211211552863829\n",
      "<class 'numpy.int64'> 211211552863829\n",
      "<class 'numpy.int64'> 0\n",
      "<class 'numpy.int64'> 211211552863829\n"
     ]
    }
   ],
   "source": [
    "for i in range(0,10):\n",
    "    print(type(awid_test['wlan.da'][i]),awid_test['wlan.da'][i])"
   ]
  },
  {
   "cell_type": "code",
   "execution_count": null,
   "metadata": {},
   "outputs": [],
   "source": []
  },
  {
   "cell_type": "code",
   "execution_count": 57,
   "metadata": {
    "scrolled": false
   },
   "outputs": [
    {
     "name": "stdout",
     "output_type": "stream",
     "text": [
      "<class 'str'> 28:c6:8e:86:d3:d6\n",
      "<class 'str'> 28:c6:8e:86:d3:d6\n",
      "<class 'int'> 0\n",
      "<class 'int'> 0\n",
      "<class 'str'> 28:c6:8e:86:d3:d6\n"
     ]
    }
   ],
   "source": [
    "for i in range(0,5):\n",
    "    print(type(awid_test['wlan.ta'][i]),awid_test['wlan.ta'][i])"
   ]
  },
  {
   "cell_type": "code",
   "execution_count": 58,
   "metadata": {},
   "outputs": [],
   "source": [
    "for i in range(0,len(awid_test['wlan.ta'])):\n",
    "    if str(type(awid_test['wlan.ta'][i]))==\"<class 'str'>\":\n",
    "        x=mac_to_int(awid_test['wlan.ta'][i])\n",
    "        awid_test['wlan.ta'].replace({awid_test['wlan.ta'][i]:x}, inplace=True)"
   ]
  },
  {
   "cell_type": "code",
   "execution_count": 59,
   "metadata": {},
   "outputs": [],
   "source": [
    "awid_test['wlan.ta']=awid_test['wlan.ta'].astype('int')"
   ]
  },
  {
   "cell_type": "code",
   "execution_count": 60,
   "metadata": {},
   "outputs": [
    {
     "name": "stdout",
     "output_type": "stream",
     "text": [
      "<class 'numpy.int64'> 44833259836374\n",
      "<class 'numpy.int64'> 44833259836374\n",
      "<class 'numpy.int64'> 0\n",
      "<class 'numpy.int64'> 0\n",
      "<class 'numpy.int64'> 44833259836374\n",
      "<class 'numpy.int64'> 44833259836374\n",
      "<class 'numpy.int64'> 44833259836374\n",
      "<class 'numpy.int64'> 44833259836374\n",
      "<class 'numpy.int64'> 0\n",
      "<class 'numpy.int64'> 44833259836374\n"
     ]
    }
   ],
   "source": [
    "for i in range(0,10):\n",
    "    print(type(awid_test['wlan.ta'][i]),awid_test['wlan.ta'][i])"
   ]
  },
  {
   "cell_type": "code",
   "execution_count": 61,
   "metadata": {
    "scrolled": false
   },
   "outputs": [
    {
     "name": "stdout",
     "output_type": "stream",
     "text": [
      "<class 'str'> 00:13:33:87:62:6d\n",
      "<class 'str'> 00:13:33:87:62:6d\n",
      "<class 'int'> 0\n",
      "<class 'int'> 0\n",
      "<class 'str'> 00:13:33:87:62:6d\n"
     ]
    }
   ],
   "source": [
    "for i in range(0,5):\n",
    "    print(type(awid_test['wlan.sa'][i]),awid_test['wlan.sa'][i])"
   ]
  },
  {
   "cell_type": "code",
   "execution_count": 62,
   "metadata": {},
   "outputs": [],
   "source": [
    "for i in range(0,len(awid_test['wlan.sa'])):\n",
    "    if str(type(awid_test['wlan.sa'][i]))==\"<class 'str'>\":\n",
    "        x=mac_to_int(awid_test['wlan.sa'][i])\n",
    "        awid_test['wlan.sa'].replace({awid_test['wlan.sa'][i]:x}, inplace=True)"
   ]
  },
  {
   "cell_type": "code",
   "execution_count": 63,
   "metadata": {},
   "outputs": [],
   "source": [
    "awid_test['wlan.sa']=awid_test['wlan.sa'].astype('int')"
   ]
  },
  {
   "cell_type": "code",
   "execution_count": 64,
   "metadata": {},
   "outputs": [
    {
     "name": "stdout",
     "output_type": "stream",
     "text": [
      "<class 'numpy.int64'> 82468889197\n",
      "<class 'numpy.int64'> 82468889197\n",
      "<class 'numpy.int64'> 0\n",
      "<class 'numpy.int64'> 0\n",
      "<class 'numpy.int64'> 82468889197\n",
      "<class 'numpy.int64'> 82468889197\n",
      "<class 'numpy.int64'> 82468889197\n",
      "<class 'numpy.int64'> 82468889197\n",
      "<class 'numpy.int64'> 0\n",
      "<class 'numpy.int64'> 82468889197\n"
     ]
    }
   ],
   "source": [
    "for i in range(0,10):\n",
    "    print(type(awid_test['wlan.sa'][i]),awid_test['wlan.sa'][i])"
   ]
  },
  {
   "cell_type": "code",
   "execution_count": null,
   "metadata": {},
   "outputs": [],
   "source": []
  },
  {
   "cell_type": "code",
   "execution_count": 65,
   "metadata": {
    "scrolled": false
   },
   "outputs": [
    {
     "name": "stdout",
     "output_type": "stream",
     "text": [
      "<class 'str'> 28:c6:8e:86:d3:d6\n",
      "<class 'str'> 28:c6:8e:86:d3:d6\n",
      "<class 'int'> 0\n",
      "<class 'int'> 0\n",
      "<class 'str'> 28:c6:8e:86:d3:d6\n"
     ]
    }
   ],
   "source": [
    "for i in range(0,5):\n",
    "    print(type(awid_test['wlan.bssid'][i]),awid_test['wlan.bssid'][i])"
   ]
  },
  {
   "cell_type": "code",
   "execution_count": 66,
   "metadata": {},
   "outputs": [],
   "source": [
    "for i in range(0,len(awid_test['wlan.bssid'])):\n",
    "    if str(type(awid_test['wlan.bssid'][i]))==\"<class 'str'>\":\n",
    "        x=mac_to_int(awid_test['wlan.bssid'][i])\n",
    "        awid_test['wlan.bssid'].replace({awid_test['wlan.bssid'][i]:x}, inplace=True)"
   ]
  },
  {
   "cell_type": "code",
   "execution_count": 67,
   "metadata": {},
   "outputs": [],
   "source": [
    "awid_test['wlan.bssid']=awid_test['wlan.bssid'].astype('int')"
   ]
  },
  {
   "cell_type": "code",
   "execution_count": 68,
   "metadata": {},
   "outputs": [
    {
     "name": "stdout",
     "output_type": "stream",
     "text": [
      "<class 'numpy.int64'> 44833259836374\n",
      "<class 'numpy.int64'> 44833259836374\n",
      "<class 'numpy.int64'> 0\n",
      "<class 'numpy.int64'> 0\n",
      "<class 'numpy.int64'> 44833259836374\n",
      "<class 'numpy.int64'> 44833259836374\n",
      "<class 'numpy.int64'> 44833259836374\n",
      "<class 'numpy.int64'> 44833259836374\n",
      "<class 'numpy.int64'> 0\n",
      "<class 'numpy.int64'> 44833259836374\n"
     ]
    }
   ],
   "source": [
    "for i in range(0,10):\n",
    "    print(type(awid_test['wlan.bssid'][i]),awid_test['wlan.bssid'][i])"
   ]
  },
  {
   "cell_type": "code",
   "execution_count": 69,
   "metadata": {},
   "outputs": [],
   "source": [
    "# X_train, y_train = awid.iloc[:,:-1], awid['class']\n",
    "# X_test, y_test = awid_test.iloc[:,:-1], awid_test['class']"
   ]
  },
  {
   "cell_type": "code",
   "execution_count": 70,
   "metadata": {},
   "outputs": [],
   "source": [
    "# awid_target = awid['class']\n",
    "# awid_test_target = awid_test[\"class\"]\n",
    "# awid = awid.drop(\"class\" , axis =1)\n",
    "# awid_test = awid_test.drop('class', axis =1)\n",
    "# # awid = pd.get_dummies(awid)\n",
    "# # awid_test = pd.get_dummies(awid_test)\n",
    "\n",
    "\n",
    "# print('Training Features shape: ', awid.shape)\n",
    "# print('Testing Features shape: ', awid_test.shape)"
   ]
  },
  {
   "cell_type": "code",
   "execution_count": 71,
   "metadata": {},
   "outputs": [],
   "source": [
    "# X_train.shape,X_test.shape"
   ]
  },
  {
   "cell_type": "code",
   "execution_count": 72,
   "metadata": {},
   "outputs": [],
   "source": [
    "# y_train.shape,y_test.shape"
   ]
  },
  {
   "cell_type": "code",
   "execution_count": 73,
   "metadata": {},
   "outputs": [],
   "source": [
    "for col in awid.columns:\n",
    "    awid[col]=pd.to_numeric(awid[col], errors='ignore')"
   ]
  },
  {
   "cell_type": "code",
   "execution_count": 74,
   "metadata": {},
   "outputs": [],
   "source": [
    "for col in awid_test.columns:\n",
    "    awid_test[col]=pd.to_numeric(awid_test[col], errors='ignore')"
   ]
  },
  {
   "cell_type": "code",
   "execution_count": 75,
   "metadata": {},
   "outputs": [
    {
     "name": "stdout",
     "output_type": "stream",
     "text": [
      "wlan.fc.type_subtype 0x08 <class 'str'>\n",
      "wlan.fc.ds 0x00 <class 'str'>\n",
      "class normal <class 'str'>\n"
     ]
    }
   ],
   "source": [
    "cols=[]\n",
    "str_colm=[]\n",
    "for i in range(len(awid.columns)):\n",
    "    if str(type(awid.iloc[0,i]))==\"<class 'str'>\":\n",
    "        str_colm.append(awid.columns[i])\n",
    "        print(awid.columns[i],awid.iloc[0,i],type(awid.iloc[0,i]))\n",
    "    else:\n",
    "        cols.append(awid.columns[i])"
   ]
  },
  {
   "cell_type": "code",
   "execution_count": 76,
   "metadata": {},
   "outputs": [
    {
     "name": "stdout",
     "output_type": "stream",
     "text": [
      "wlan.fc.type_subtype 0x28 <class 'str'>\n",
      "wlan.fc.ds 0x02 <class 'str'>\n",
      "class normal <class 'str'>\n"
     ]
    }
   ],
   "source": [
    "cols_test=[]\n",
    "str_colm_test=[]\n",
    "for i in range(len(awid_test.columns)):\n",
    "    if str(type(awid_test.iloc[0,i]))==\"<class 'str'>\":\n",
    "        str_colm_test.append(awid_test.columns[i])\n",
    "        print(awid_test.columns[i],awid_test.iloc[0,i],type(awid_test.iloc[0,i]))\n",
    "    else:\n",
    "        cols_test.append(awid_test.columns[i])"
   ]
  },
  {
   "cell_type": "code",
   "execution_count": 77,
   "metadata": {},
   "outputs": [
    {
     "data": {
      "text/plain": [
       "((1795575, 60), (575643, 60))"
      ]
     },
     "execution_count": 77,
     "metadata": {},
     "output_type": "execute_result"
    }
   ],
   "source": [
    "awid.shape,awid_test.shape"
   ]
  },
  {
   "cell_type": "code",
   "execution_count": 78,
   "metadata": {},
   "outputs": [],
   "source": [
    "a=awid['wlan.fc.type_subtype'].unique()\n",
    "b=awid['wlan.fc.ds'].unique()"
   ]
  },
  {
   "cell_type": "code",
   "execution_count": 79,
   "metadata": {},
   "outputs": [
    {
     "data": {
      "text/plain": [
       "{'0x08': 0,\n",
       " '0x24': 1,\n",
       " '0x1d': 2,\n",
       " '0x28': 3,\n",
       " '0x04': 4,\n",
       " '0x05': 5,\n",
       " '0x20': 6,\n",
       " '0x1c': 7,\n",
       " '0x2c': 8,\n",
       " '0x1a': 9,\n",
       " '0x0c': 10,\n",
       " '0x0b': 11,\n",
       " '0x01': 12,\n",
       " '0x00': 13,\n",
       " '0x03': 14,\n",
       " '0x1b': 15,\n",
       " '0x0a': 16,\n",
       " '0x02': 17,\n",
       " '0x0d': 18,\n",
       " '0x19': 19,\n",
       " '0x18': 20}"
      ]
     },
     "execution_count": 79,
     "metadata": {},
     "output_type": "execute_result"
    }
   ],
   "source": [
    "from collections import defaultdict\n",
    "\n",
    "dicta={}\n",
    "\n",
    "for i in range(0,len(a)):\n",
    "    dicta[a[i]]=i\n",
    "    \n",
    "    \n",
    "dicta"
   ]
  },
  {
   "cell_type": "code",
   "execution_count": 80,
   "metadata": {},
   "outputs": [
    {
     "data": {
      "text/plain": [
       "{'0x00': 0, '0x01': 1, '0x02': 2}"
      ]
     },
     "execution_count": 80,
     "metadata": {},
     "output_type": "execute_result"
    }
   ],
   "source": [
    "dictb={}\n",
    "\n",
    "for i in range(0,len(b)):\n",
    "    dictb[b[i]]=i\n",
    "    \n",
    "    \n",
    "dictb"
   ]
  },
  {
   "cell_type": "code",
   "execution_count": 81,
   "metadata": {},
   "outputs": [],
   "source": [
    "awid.replace({'wlan.fc.type_subtype': dicta},inplace=True)\n",
    "awid.replace({'wlan.fc.ds': dictb},inplace=True)"
   ]
  },
  {
   "cell_type": "code",
   "execution_count": 82,
   "metadata": {},
   "outputs": [],
   "source": [
    "aa=awid_test['wlan.fc.type_subtype'].unique()\n",
    "bb=awid_test['wlan.fc.ds'].unique()"
   ]
  },
  {
   "cell_type": "code",
   "execution_count": 83,
   "metadata": {},
   "outputs": [
    {
     "data": {
      "text/plain": [
       "{'0x28': 0,\n",
       " '0x1d': 1,\n",
       " '0x08': 2,\n",
       " '0x04': 3,\n",
       " '0x20': 4,\n",
       " '0x24': 5,\n",
       " '0x05': 6,\n",
       " '0x2c': 7,\n",
       " '0x1c': 8,\n",
       " '0x1a': 9,\n",
       " '0x0c': 10,\n",
       " '0x0b': 11,\n",
       " '0x00': 12,\n",
       " '0x01': 13,\n",
       " '0x0d': 14,\n",
       " '0x1b': 15,\n",
       " '0x02': 16,\n",
       " '0x03': 17,\n",
       " '0x0a': 18}"
      ]
     },
     "execution_count": 83,
     "metadata": {},
     "output_type": "execute_result"
    }
   ],
   "source": [
    "from collections import defaultdict\n",
    "\n",
    "dictaa={}\n",
    "\n",
    "for i in range(0,len(aa)):\n",
    "    dictaa[aa[i]]=i\n",
    "    \n",
    "    \n",
    "dictaa"
   ]
  },
  {
   "cell_type": "code",
   "execution_count": 84,
   "metadata": {},
   "outputs": [
    {
     "data": {
      "text/plain": [
       "{'0x02': 0, '0x00': 1, '0x01': 2}"
      ]
     },
     "execution_count": 84,
     "metadata": {},
     "output_type": "execute_result"
    }
   ],
   "source": [
    "dictbb={}\n",
    "\n",
    "for i in range(0,len(bb)):\n",
    "    dictbb[bb[i]]=i\n",
    "    \n",
    "    \n",
    "dictbb"
   ]
  },
  {
   "cell_type": "code",
   "execution_count": 85,
   "metadata": {},
   "outputs": [],
   "source": [
    "awid_test.replace({'wlan.fc.type_subtype': dictaa},inplace=True)\n",
    "awid_test.replace({'wlan.fc.ds': dictbb},inplace=True)"
   ]
  },
  {
   "cell_type": "code",
   "execution_count": null,
   "metadata": {},
   "outputs": [],
   "source": []
  },
  {
   "cell_type": "code",
   "execution_count": null,
   "metadata": {},
   "outputs": [],
   "source": []
  },
  {
   "cell_type": "code",
   "execution_count": null,
   "metadata": {},
   "outputs": [],
   "source": []
  },
  {
   "cell_type": "code",
   "execution_count": 86,
   "metadata": {},
   "outputs": [],
   "source": [
    "# cols=[]\n",
    "# str_colm=[]\n",
    "# for i in range(len(X_train.columns)):\n",
    "#     if str(type(X_train.iloc[0,i]))==\"<class 'str'>\":\n",
    "#         str_colm.append(X_train.columns[i])\n",
    "#         print(X_train.columns[i],X_train.iloc[0,i],type(X_train.iloc[0,i]))\n",
    "#     else:\n",
    "#         cols.append(X_train.columns[i])"
   ]
  },
  {
   "cell_type": "code",
   "execution_count": null,
   "metadata": {},
   "outputs": [],
   "source": []
  },
  {
   "cell_type": "code",
   "execution_count": null,
   "metadata": {},
   "outputs": [],
   "source": []
  },
  {
   "cell_type": "code",
   "execution_count": null,
   "metadata": {},
   "outputs": [],
   "source": []
  },
  {
   "cell_type": "code",
   "execution_count": 87,
   "metadata": {},
   "outputs": [
    {
     "ename": "SyntaxError",
     "evalue": "invalid syntax (<ipython-input-87-65dcdb21e046>, line 1)",
     "output_type": "error",
     "traceback": [
      "\u001b[0;36m  File \u001b[0;32m\"<ipython-input-87-65dcdb21e046>\"\u001b[0;36m, line \u001b[0;32m1\u001b[0m\n\u001b[0;31m    stop here we need to do something\u001b[0m\n\u001b[0m         ^\u001b[0m\n\u001b[0;31mSyntaxError\u001b[0m\u001b[0;31m:\u001b[0m invalid syntax\n"
     ]
    }
   ],
   "source": [
    "# stop here we need to do something"
   ]
  },
  {
   "cell_type": "code",
   "execution_count": null,
   "metadata": {},
   "outputs": [],
   "source": [
    "# import re\n",
    "# from collections import defaultdict\n",
    "\n",
    "\n",
    "# def to_integer(colu):\n",
    "#     a=awid[colu].unique()\n",
    "#     dicta={}\n",
    "#     for i in range(0,len(a)):\n",
    "#         dicta[a[i]]=i\n",
    "#     awid.replace({colu: dicta},inplace=True)\n",
    "    "
   ]
  },
  {
   "cell_type": "code",
   "execution_count": null,
   "metadata": {},
   "outputs": [],
   "source": [
    "# Stop here we needto do something"
   ]
  },
  {
   "cell_type": "code",
   "execution_count": null,
   "metadata": {},
   "outputs": [],
   "source": [
    "# cols=[]\n",
    "# str_colm=[]\n",
    "\n",
    "# for i in range(len(awid.columns)):\n",
    "#     if str(type(awid.iloc[0,i]))==\"<class 'str'>\":\n",
    "#         str_colm.append(awid.columns[i])\n",
    "#         x=to_integer(awid.columns[i])\n",
    "#         print(awid.columns[i],awid.iloc[0,i],type(awid.iloc[0,i]))\n",
    "#     else:\n",
    "#         cols.append(awid.columns[i])"
   ]
  },
  {
   "cell_type": "code",
   "execution_count": null,
   "metadata": {},
   "outputs": [],
   "source": []
  },
  {
   "cell_type": "code",
   "execution_count": null,
   "metadata": {},
   "outputs": [],
   "source": []
  },
  {
   "cell_type": "code",
   "execution_count": null,
   "metadata": {},
   "outputs": [],
   "source": [
    "# awid.drop(labels=str_colm, axis=1, inplace=True)\n",
    "# awid_test.drop(labels=str_colm, axis=1, inplace=True)"
   ]
  },
  {
   "cell_type": "code",
   "execution_count": 88,
   "metadata": {},
   "outputs": [
    {
     "data": {
      "text/plain": [
       "((1795575, 60), (575643, 60))"
      ]
     },
     "execution_count": 88,
     "metadata": {},
     "output_type": "execute_result"
    }
   ],
   "source": [
    "awid.shape,awid_test.shape"
   ]
  },
  {
   "cell_type": "code",
   "execution_count": null,
   "metadata": {},
   "outputs": [],
   "source": []
  },
  {
   "cell_type": "code",
   "execution_count": null,
   "metadata": {},
   "outputs": [],
   "source": []
  },
  {
   "cell_type": "code",
   "execution_count": null,
   "metadata": {},
   "outputs": [],
   "source": []
  },
  {
   "cell_type": "code",
   "execution_count": 89,
   "metadata": {},
   "outputs": [
    {
     "name": "stdout",
     "output_type": "stream",
     "text": [
      "Training Features shape:  (1795575, 59)\n",
      "Testing Features shape:  (575643, 59)\n"
     ]
    }
   ],
   "source": [
    "awid_target = awid['class']\n",
    "awid_test_target = awid_test[\"class\"]\n",
    "awid = awid.drop(\"class\" , axis =1)\n",
    "awid_test = awid_test.drop('class', axis =1)\n",
    "# awid = pd.get_dummies(awid)\n",
    "# awid_test = pd.get_dummies(awid_test)\n",
    "\n",
    "\n",
    "print('Training Features shape: ', awid.shape)\n",
    "print('Testing Features shape: ', awid_test.shape)"
   ]
  },
  {
   "cell_type": "code",
   "execution_count": null,
   "metadata": {},
   "outputs": [],
   "source": []
  },
  {
   "cell_type": "code",
   "execution_count": null,
   "metadata": {},
   "outputs": [],
   "source": []
  },
  {
   "cell_type": "code",
   "execution_count": null,
   "metadata": {},
   "outputs": [],
   "source": []
  },
  {
   "cell_type": "code",
   "execution_count": null,
   "metadata": {},
   "outputs": [],
   "source": []
  },
  {
   "cell_type": "code",
   "execution_count": 90,
   "metadata": {},
   "outputs": [
    {
     "name": "stderr",
     "output_type": "stream",
     "text": [
      "/home/shaubhik_2111cs19/.local/lib/python3.8/site-packages/sklearn/linear_model/_logistic.py:444: ConvergenceWarning: lbfgs failed to converge (status=2):\n",
      "ABNORMAL_TERMINATION_IN_LNSRCH.\n",
      "\n",
      "Increase the number of iterations (max_iter) or scale the data as shown in:\n",
      "    https://scikit-learn.org/stable/modules/preprocessing.html\n",
      "Please also refer to the documentation for alternative solver options:\n",
      "    https://scikit-learn.org/stable/modules/linear_model.html#logistic-regression\n",
      "  n_iter_i = _check_optimize_result(\n"
     ]
    },
    {
     "data": {
      "text/html": [
       "<style>#sk-container-id-1 {color: black;background-color: white;}#sk-container-id-1 pre{padding: 0;}#sk-container-id-1 div.sk-toggleable {background-color: white;}#sk-container-id-1 label.sk-toggleable__label {cursor: pointer;display: block;width: 100%;margin-bottom: 0;padding: 0.3em;box-sizing: border-box;text-align: center;}#sk-container-id-1 label.sk-toggleable__label-arrow:before {content: \"▸\";float: left;margin-right: 0.25em;color: #696969;}#sk-container-id-1 label.sk-toggleable__label-arrow:hover:before {color: black;}#sk-container-id-1 div.sk-estimator:hover label.sk-toggleable__label-arrow:before {color: black;}#sk-container-id-1 div.sk-toggleable__content {max-height: 0;max-width: 0;overflow: hidden;text-align: left;background-color: #f0f8ff;}#sk-container-id-1 div.sk-toggleable__content pre {margin: 0.2em;color: black;border-radius: 0.25em;background-color: #f0f8ff;}#sk-container-id-1 input.sk-toggleable__control:checked~div.sk-toggleable__content {max-height: 200px;max-width: 100%;overflow: auto;}#sk-container-id-1 input.sk-toggleable__control:checked~label.sk-toggleable__label-arrow:before {content: \"▾\";}#sk-container-id-1 div.sk-estimator input.sk-toggleable__control:checked~label.sk-toggleable__label {background-color: #d4ebff;}#sk-container-id-1 div.sk-label input.sk-toggleable__control:checked~label.sk-toggleable__label {background-color: #d4ebff;}#sk-container-id-1 input.sk-hidden--visually {border: 0;clip: rect(1px 1px 1px 1px);clip: rect(1px, 1px, 1px, 1px);height: 1px;margin: -1px;overflow: hidden;padding: 0;position: absolute;width: 1px;}#sk-container-id-1 div.sk-estimator {font-family: monospace;background-color: #f0f8ff;border: 1px dotted black;border-radius: 0.25em;box-sizing: border-box;margin-bottom: 0.5em;}#sk-container-id-1 div.sk-estimator:hover {background-color: #d4ebff;}#sk-container-id-1 div.sk-parallel-item::after {content: \"\";width: 100%;border-bottom: 1px solid gray;flex-grow: 1;}#sk-container-id-1 div.sk-label:hover label.sk-toggleable__label {background-color: #d4ebff;}#sk-container-id-1 div.sk-serial::before {content: \"\";position: absolute;border-left: 1px solid gray;box-sizing: border-box;top: 0;bottom: 0;left: 50%;z-index: 0;}#sk-container-id-1 div.sk-serial {display: flex;flex-direction: column;align-items: center;background-color: white;padding-right: 0.2em;padding-left: 0.2em;position: relative;}#sk-container-id-1 div.sk-item {position: relative;z-index: 1;}#sk-container-id-1 div.sk-parallel {display: flex;align-items: stretch;justify-content: center;background-color: white;position: relative;}#sk-container-id-1 div.sk-item::before, #sk-container-id-1 div.sk-parallel-item::before {content: \"\";position: absolute;border-left: 1px solid gray;box-sizing: border-box;top: 0;bottom: 0;left: 50%;z-index: -1;}#sk-container-id-1 div.sk-parallel-item {display: flex;flex-direction: column;z-index: 1;position: relative;background-color: white;}#sk-container-id-1 div.sk-parallel-item:first-child::after {align-self: flex-end;width: 50%;}#sk-container-id-1 div.sk-parallel-item:last-child::after {align-self: flex-start;width: 50%;}#sk-container-id-1 div.sk-parallel-item:only-child::after {width: 0;}#sk-container-id-1 div.sk-dashed-wrapped {border: 1px dashed gray;margin: 0 0.4em 0.5em 0.4em;box-sizing: border-box;padding-bottom: 0.4em;background-color: white;}#sk-container-id-1 div.sk-label label {font-family: monospace;font-weight: bold;display: inline-block;line-height: 1.2em;}#sk-container-id-1 div.sk-label-container {text-align: center;}#sk-container-id-1 div.sk-container {/* jupyter's `normalize.less` sets `[hidden] { display: none; }` but bootstrap.min.css set `[hidden] { display: none !important; }` so we also need the `!important` here to be able to override the default hidden behavior on the sphinx rendered scikit-learn.org. See: https://github.com/scikit-learn/scikit-learn/issues/21755 */display: inline-block !important;position: relative;}#sk-container-id-1 div.sk-text-repr-fallback {display: none;}</style><div id=\"sk-container-id-1\" class=\"sk-top-container\"><div class=\"sk-text-repr-fallback\"><pre>LogisticRegression()</pre><b>In a Jupyter environment, please rerun this cell to show the HTML representation or trust the notebook. <br />On GitHub, the HTML representation is unable to render, please try loading this page with nbviewer.org.</b></div><div class=\"sk-container\" hidden><div class=\"sk-item\"><div class=\"sk-estimator sk-toggleable\"><input class=\"sk-toggleable__control sk-hidden--visually\" id=\"sk-estimator-id-1\" type=\"checkbox\" checked><label for=\"sk-estimator-id-1\" class=\"sk-toggleable__label sk-toggleable__label-arrow\">LogisticRegression</label><div class=\"sk-toggleable__content\"><pre>LogisticRegression()</pre></div></div></div></div></div>"
      ],
      "text/plain": [
       "LogisticRegression()"
      ]
     },
     "execution_count": 90,
     "metadata": {},
     "output_type": "execute_result"
    }
   ],
   "source": [
    "from sklearn.linear_model import LogisticRegression\n",
    "\n",
    "# all parameters not specified are set to their defaults\n",
    "# default solver is incredibly slow which is why it was changed to 'lbfgs'\n",
    "logisticRegr = LogisticRegression(solver = 'lbfgs')\n",
    "\n",
    "logisticRegr.fit(awid,awid_target)"
   ]
  },
  {
   "cell_type": "code",
   "execution_count": 91,
   "metadata": {},
   "outputs": [
    {
     "data": {
      "text/plain": [
       "array(['flooding', 'flooding', 'flooding', 'flooding', 'flooding',\n",
       "       'flooding', 'flooding', 'flooding', 'flooding', 'flooding'],\n",
       "      dtype=object)"
      ]
     },
     "execution_count": 91,
     "metadata": {},
     "output_type": "execute_result"
    }
   ],
   "source": [
    "logisticRegr.predict(awid_test[0:10])"
   ]
  },
  {
   "cell_type": "code",
   "execution_count": 92,
   "metadata": {},
   "outputs": [
    {
     "data": {
      "text/plain": [
       "0.014066009662238576"
      ]
     },
     "execution_count": 92,
     "metadata": {},
     "output_type": "execute_result"
    }
   ],
   "source": [
    "logisticRegr.score(awid_test, awid_test_target)"
   ]
  },
  {
   "cell_type": "code",
   "execution_count": 93,
   "metadata": {},
   "outputs": [],
   "source": [
    "from collections import Counter\n",
    "from sklearn.model_selection import train_test_split\n",
    "from sklearn.feature_extraction.text import TfidfVectorizer, CountVectorizer\n",
    "from sklearn.naive_bayes import MultinomialNB\n",
    "from sklearn.naive_bayes import GaussianNB\n",
    "from sklearn.naive_bayes import BernoulliNB\n",
    "from sklearn.svm import SVC\n",
    "from sklearn.neural_network import MLPClassifier\n",
    "from sklearn.ensemble import AdaBoostClassifier\n",
    "from sklearn.tree import DecisionTreeClassifier\n",
    "from sklearn.ensemble import RandomForestClassifier\n",
    "from sklearn.ensemble import GradientBoostingClassifier\n",
    "from sklearn.linear_model import LogisticRegression\n",
    "from sklearn.model_selection import GridSearchCV\n",
    "from sklearn.metrics import f1_score, confusion_matrix\n",
    "\n",
    "clfs = {\n",
    "#     'mnb': MultinomialNB(),\n",
    "    'gnb': GaussianNB(),\n",
    "#    'svm1': SVC(kernel='linear'),\n",
    "#   'svm2': SVC(kernel='rbf'),\n",
    "#    'svm3': SVC(kernel='sigmoid'),\n",
    "    'mlp1': MLPClassifier(),\n",
    "    'mlp2': MLPClassifier(hidden_layer_sizes=[100, 100]),\n",
    "   'ada': AdaBoostClassifier(),\n",
    "    'dtc': DecisionTreeClassifier(),\n",
    "    'rfc': RandomForestClassifier(),\n",
    "    'gbc': GradientBoostingClassifier(),\n",
    "    'lr': LogisticRegression()\n",
    "}"
   ]
  },
  {
   "cell_type": "code",
   "execution_count": 94,
   "metadata": {},
   "outputs": [
    {
     "name": "stdout",
     "output_type": "stream",
     "text": [
      "gnb\n",
      "mlp1\n",
      "mlp2\n",
      "ada\n",
      "dtc\n",
      "rfc\n",
      "gbc\n",
      "lr\n"
     ]
    },
    {
     "name": "stderr",
     "output_type": "stream",
     "text": [
      "/home/shaubhik_2111cs19/.local/lib/python3.8/site-packages/sklearn/linear_model/_logistic.py:444: ConvergenceWarning: lbfgs failed to converge (status=2):\n",
      "ABNORMAL_TERMINATION_IN_LNSRCH.\n",
      "\n",
      "Increase the number of iterations (max_iter) or scale the data as shown in:\n",
      "    https://scikit-learn.org/stable/modules/preprocessing.html\n",
      "Please also refer to the documentation for alternative solver options:\n",
      "    https://scikit-learn.org/stable/modules/linear_model.html#logistic-regression\n",
      "  n_iter_i = _check_optimize_result(\n"
     ]
    }
   ],
   "source": [
    "f1_scores = dict()\n",
    "for clf_name in clfs:\n",
    "    print(clf_name)\n",
    "    clf = clfs[clf_name]\n",
    "    clf.fit(awid, awid_target)\n",
    "    y_pred = clf.predict(awid_test)\n",
    "    f1_scores[clf_name] = f1_score(y_pred, awid_test_target,average=\"weighted\")"
   ]
  },
  {
   "cell_type": "code",
   "execution_count": 95,
   "metadata": {},
   "outputs": [
    {
     "data": {
      "text/plain": [
       "{'gnb': 0.604930093643704,\n",
       " 'mlp1': 0.9594569190222951,\n",
       " 'mlp2': 0.9593943464468931,\n",
       " 'ada': 0.5161956208118216,\n",
       " 'dtc': 0.9638127777204765,\n",
       " 'rfc': 0.96007902479304,\n",
       " 'gbc': 0.9686482836747984,\n",
       " 'lr': 0.027741802857436534}"
      ]
     },
     "execution_count": 95,
     "metadata": {},
     "output_type": "execute_result"
    }
   ],
   "source": [
    "f1_scores"
   ]
  },
  {
   "cell_type": "code",
   "execution_count": 96,
   "metadata": {},
   "outputs": [
    {
     "data": {
      "text/plain": [
       "{'gnb': 0.693617398283311,\n",
       " 'mlp1': 0.9220732294147588,\n",
       " 'mlp2': 0.9220315369074236,\n",
       " 'ada': 0.605363046193561,\n",
       " 'dtc': 0.960173232367978,\n",
       " 'rfc': 0.931653820162844,\n",
       " 'gbc': 0.9567926648982095,\n",
       " 'lr': 0.014066009662238576}"
      ]
     },
     "execution_count": 96,
     "metadata": {},
     "output_type": "execute_result"
    }
   ],
   "source": [
    "accuracy={}\n",
    "for i in clfs:\n",
    "    accuracy[i] = clfs[i].score(awid_test, awid_test_target)\n",
    "accuracy"
   ]
  },
  {
   "cell_type": "code",
   "execution_count": 97,
   "metadata": {},
   "outputs": [],
   "source": [
    "awid_target_div =awid_target"
   ]
  },
  {
   "cell_type": "code",
   "execution_count": 98,
   "metadata": {},
   "outputs": [],
   "source": [
    "awid_target_div =awid_target_div.replace((\"impersonation\", \"flooding\", \"injection\"),\"attack\")"
   ]
  },
  {
   "cell_type": "code",
   "execution_count": 99,
   "metadata": {},
   "outputs": [
    {
     "name": "stdout",
     "output_type": "stream",
     "text": [
      "No. of attacks :  162385\n",
      "No. of normal :  1633190\n",
      "A/N :  0.09942811307931104\n"
     ]
    }
   ],
   "source": [
    "print(\"No. of attacks : \", list(awid_target_div).count(\"attack\"))\n",
    "print(\"No. of normal : \", list(awid_target_div).count(\"normal\"))\n",
    "print(\"A/N : \", list(awid_target_div).count(\"attack\") / list(awid_target_div).count(\"normal\"))"
   ]
  },
  {
   "cell_type": "code",
   "execution_count": 100,
   "metadata": {},
   "outputs": [
    {
     "data": {
      "text/plain": [
       "Text(0, 0.5, 'Frequency')"
      ]
     },
     "execution_count": 100,
     "metadata": {},
     "output_type": "execute_result"
    },
    {
     "data": {
      "image/png": "[encoded data removed]",
      "text/plain": [
       "<Figure size 432x288 with 1 Axes>"
      ]
     },
     "metadata": {
      "needs_background": "light"
     },
     "output_type": "display_data"
    }
   ],
   "source": [
    "plt.hist(awid_target_div)\n",
    "plt.title(\"Distribution of labels\")\n",
    "plt.xlabel(\"Type of Occurence\")\n",
    "plt.ylabel(\"Frequency\")"
   ]
  },
  {
   "cell_type": "code",
   "execution_count": 101,
   "metadata": {},
   "outputs": [],
   "source": [
    "awid_div = awid\n",
    "awid_div[\"class\"] = awid_target_div"
   ]
  },
  {
   "cell_type": "code",
   "execution_count": 102,
   "metadata": {},
   "outputs": [],
   "source": [
    "awid_div['class'] = awid_div['class'].replace(\"normal\",0)\n",
    "awid_div['class'] = awid_div['class'].replace(\"attack\",1)"
   ]
  },
  {
   "cell_type": "code",
   "execution_count": 103,
   "metadata": {},
   "outputs": [],
   "source": [
    "test_div = awid_test\n",
    "test_div['class'] = awid_test_target.replace(\"normal\",0)\n",
    "test_div['class'] = awid_test_target.replace(\"attack\",1)"
   ]
  },
  {
   "cell_type": "code",
   "execution_count": 104,
   "metadata": {},
   "outputs": [
    {
     "data": {
      "text/html": [
       "<div>\n",
       "<style scoped>\n",
       "    .dataframe tbody tr th:only-of-type {\n",
       "        vertical-align: middle;\n",
       "    }\n",
       "\n",
       "    .dataframe tbody tr th {\n",
       "        vertical-align: top;\n",
       "    }\n",
       "\n",
       "    .dataframe thead th {\n",
       "        text-align: right;\n",
       "    }\n",
       "</style>\n",
       "<table border=\"1\" class=\"dataframe\">\n",
       "  <thead>\n",
       "    <tr style=\"text-align: right;\">\n",
       "      <th></th>\n",
       "      <th>frame.time_epoch</th>\n",
       "      <th>frame.time_delta</th>\n",
       "      <th>frame.time_delta_displayed</th>\n",
       "      <th>frame.time_relative</th>\n",
       "      <th>frame.len</th>\n",
       "      <th>frame.cap_len</th>\n",
       "      <th>radiotap.length</th>\n",
       "      <th>radiotap.present.tsft</th>\n",
       "      <th>radiotap.present.flags</th>\n",
       "      <th>radiotap.present.channel</th>\n",
       "      <th>...</th>\n",
       "      <th>wlan.da</th>\n",
       "      <th>wlan.ta</th>\n",
       "      <th>wlan.sa</th>\n",
       "      <th>wlan.bssid</th>\n",
       "      <th>wlan.frag</th>\n",
       "      <th>wlan.seq</th>\n",
       "      <th>wlan.fcs_good</th>\n",
       "      <th>wlan.wep.key</th>\n",
       "      <th>data.len</th>\n",
       "      <th>class</th>\n",
       "    </tr>\n",
       "  </thead>\n",
       "  <tbody>\n",
       "    <tr>\n",
       "      <th>0</th>\n",
       "      <td>1.393661e+09</td>\n",
       "      <td>0.000000</td>\n",
       "      <td>0.000000</td>\n",
       "      <td>0.000000</td>\n",
       "      <td>261</td>\n",
       "      <td>261</td>\n",
       "      <td>26</td>\n",
       "      <td>1</td>\n",
       "      <td>1</td>\n",
       "      <td>1</td>\n",
       "      <td>...</td>\n",
       "      <td>281474976710655</td>\n",
       "      <td>193825345790499</td>\n",
       "      <td>193825345790499</td>\n",
       "      <td>193825345790499</td>\n",
       "      <td>0</td>\n",
       "      <td>2851</td>\n",
       "      <td>1</td>\n",
       "      <td>0</td>\n",
       "      <td>0</td>\n",
       "      <td>0</td>\n",
       "    </tr>\n",
       "    <tr>\n",
       "      <th>1</th>\n",
       "      <td>1.393661e+09</td>\n",
       "      <td>0.024271</td>\n",
       "      <td>0.024271</td>\n",
       "      <td>0.024271</td>\n",
       "      <td>185</td>\n",
       "      <td>185</td>\n",
       "      <td>26</td>\n",
       "      <td>1</td>\n",
       "      <td>1</td>\n",
       "      <td>1</td>\n",
       "      <td>...</td>\n",
       "      <td>281474976710655</td>\n",
       "      <td>61721325520229</td>\n",
       "      <td>61721325520229</td>\n",
       "      <td>61721325520229</td>\n",
       "      <td>0</td>\n",
       "      <td>2159</td>\n",
       "      <td>1</td>\n",
       "      <td>0</td>\n",
       "      <td>0</td>\n",
       "      <td>0</td>\n",
       "    </tr>\n",
       "    <tr>\n",
       "      <th>2</th>\n",
       "      <td>1.393661e+09</td>\n",
       "      <td>0.001631</td>\n",
       "      <td>0.001631</td>\n",
       "      <td>0.025902</td>\n",
       "      <td>185</td>\n",
       "      <td>185</td>\n",
       "      <td>26</td>\n",
       "      <td>1</td>\n",
       "      <td>1</td>\n",
       "      <td>1</td>\n",
       "      <td>...</td>\n",
       "      <td>281474976710655</td>\n",
       "      <td>61721326947624</td>\n",
       "      <td>61721326947624</td>\n",
       "      <td>61721326947624</td>\n",
       "      <td>0</td>\n",
       "      <td>291</td>\n",
       "      <td>1</td>\n",
       "      <td>0</td>\n",
       "      <td>0</td>\n",
       "      <td>0</td>\n",
       "    </tr>\n",
       "    <tr>\n",
       "      <th>3</th>\n",
       "      <td>1.393661e+09</td>\n",
       "      <td>0.055325</td>\n",
       "      <td>0.055325</td>\n",
       "      <td>0.081227</td>\n",
       "      <td>159</td>\n",
       "      <td>159</td>\n",
       "      <td>26</td>\n",
       "      <td>1</td>\n",
       "      <td>1</td>\n",
       "      <td>1</td>\n",
       "      <td>...</td>\n",
       "      <td>281474976710655</td>\n",
       "      <td>82468889197</td>\n",
       "      <td>82468889197</td>\n",
       "      <td>82468889197</td>\n",
       "      <td>0</td>\n",
       "      <td>3684</td>\n",
       "      <td>1</td>\n",
       "      <td>0</td>\n",
       "      <td>0</td>\n",
       "      <td>0</td>\n",
       "    </tr>\n",
       "    <tr>\n",
       "      <th>4</th>\n",
       "      <td>1.393661e+09</td>\n",
       "      <td>0.000415</td>\n",
       "      <td>0.000415</td>\n",
       "      <td>0.081642</td>\n",
       "      <td>54</td>\n",
       "      <td>54</td>\n",
       "      <td>26</td>\n",
       "      <td>1</td>\n",
       "      <td>1</td>\n",
       "      <td>1</td>\n",
       "      <td>...</td>\n",
       "      <td>44833259836374</td>\n",
       "      <td>162083440591</td>\n",
       "      <td>162083440591</td>\n",
       "      <td>44833259836374</td>\n",
       "      <td>0</td>\n",
       "      <td>3874</td>\n",
       "      <td>1</td>\n",
       "      <td>0</td>\n",
       "      <td>0</td>\n",
       "      <td>0</td>\n",
       "    </tr>\n",
       "  </tbody>\n",
       "</table>\n",
       "<p>5 rows × 60 columns</p>\n",
       "</div>"
      ],
      "text/plain": [
       "   frame.time_epoch  frame.time_delta  frame.time_delta_displayed  \\\n",
       "0      1.393661e+09          0.000000                    0.000000   \n",
       "1      1.393661e+09          0.024271                    0.024271   \n",
       "2      1.393661e+09          0.001631                    0.001631   \n",
       "3      1.393661e+09          0.055325                    0.055325   \n",
       "4      1.393661e+09          0.000415                    0.000415   \n",
       "\n",
       "   frame.time_relative  frame.len  frame.cap_len  radiotap.length  \\\n",
       "0             0.000000        261            261               26   \n",
       "1             0.024271        185            185               26   \n",
       "2             0.025902        185            185               26   \n",
       "3             0.081227        159            159               26   \n",
       "4             0.081642         54             54               26   \n",
       "\n",
       "   radiotap.present.tsft  radiotap.present.flags  radiotap.present.channel  \\\n",
       "0                      1                       1                         1   \n",
       "1                      1                       1                         1   \n",
       "2                      1                       1                         1   \n",
       "3                      1                       1                         1   \n",
       "4                      1                       1                         1   \n",
       "\n",
       "   ...          wlan.da          wlan.ta          wlan.sa       wlan.bssid  \\\n",
       "0  ...  281474976710655  193825345790499  193825345790499  193825345790499   \n",
       "1  ...  281474976710655   61721325520229   61721325520229   61721325520229   \n",
       "2  ...  281474976710655   61721326947624   61721326947624   61721326947624   \n",
       "3  ...  281474976710655      82468889197      82468889197      82468889197   \n",
       "4  ...   44833259836374     162083440591     162083440591   44833259836374   \n",
       "\n",
       "   wlan.frag  wlan.seq  wlan.fcs_good  wlan.wep.key  data.len  class  \n",
       "0          0      2851              1             0         0      0  \n",
       "1          0      2159              1             0         0      0  \n",
       "2          0       291              1             0         0      0  \n",
       "3          0      3684              1             0         0      0  \n",
       "4          0      3874              1             0         0      0  \n",
       "\n",
       "[5 rows x 60 columns]"
      ]
     },
     "execution_count": 104,
     "metadata": {},
     "output_type": "execute_result"
    }
   ],
   "source": [
    "awid_div.head()"
   ]
  },
  {
   "cell_type": "code",
   "execution_count": 105,
   "metadata": {},
   "outputs": [
    {
     "name": "stdout",
     "output_type": "stream",
     "text": [
      "Most Positive Correlations:\n",
      " radiotap.flags.wep              NaN\n",
      "radiotap.flags.frag             NaN\n",
      "radiotap.flags.datapad          NaN\n",
      "radiotap.flags.badfcs           NaN\n",
      "radiotap.flags.shortgi          NaN\n",
      "radiotap.channel.type.turbo     NaN\n",
      "radiotap.channel.type.5ghz      NaN\n",
      "radiotap.channel.type.passive   NaN\n",
      "radiotap.channel.type.dynamic   NaN\n",
      "radiotap.channel.type.gfsk      NaN\n",
      "radiotap.channel.type.gsm       NaN\n",
      "radiotap.channel.type.sturbo    NaN\n",
      "radiotap.channel.type.half      NaN\n",
      "radiotap.channel.type.quarter   NaN\n",
      "radiotap.rxflags.badplcp        NaN\n",
      "Name: class, dtype: float64\n",
      "\n",
      "Most Negative Correlations:\n",
      " wlan.fc.subtype              -0.398813\n",
      "radiotap.channel.type.ofdm   -0.350331\n",
      "radiotap.datarate            -0.320679\n",
      "frame.len                    -0.200726\n",
      "frame.cap_len                -0.200726\n",
      "data.len                     -0.198957\n",
      "wlan.fc.retry                -0.120321\n",
      "wlan.wep.key                 -0.035844\n",
      "wlan.seq                     -0.021902\n",
      "frame.time_delta             -0.015919\n",
      "frame.time_delta_displayed   -0.015919\n",
      "wlan.fc.moredata             -0.013103\n",
      "radiotap.channel.freq         0.006520\n",
      "wlan.fcs_good                 0.006573\n",
      "radiotap.channel.type.2ghz    0.006573\n",
      "Name: class, dtype: float64\n"
     ]
    }
   ],
   "source": [
    "# Find correlations with the target and sort\n",
    "correlations = awid_div.corr()['class'].sort_values()\n",
    "\n",
    "# Display correlations\n",
    "print('Most Positive Correlations:\\n', correlations.tail(15))\n",
    "print('\\nMost Negative Correlations:\\n', correlations.head(15))"
   ]
  },
  {
   "cell_type": "code",
   "execution_count": 106,
   "metadata": {},
   "outputs": [],
   "source": [
    "import seaborn as sns"
   ]
  },
  {
   "cell_type": "code",
   "execution_count": 107,
   "metadata": {},
   "outputs": [
    {
     "data": {
      "image/png": "[encoded data removed]",
      "text/plain": [
       "<Figure size 720x576 with 1 Axes>"
      ]
     },
     "metadata": {
      "needs_background": "light"
     },
     "output_type": "display_data"
    }
   ],
   "source": [
    "plt.figure(figsize = (10, 8))\n",
    "\n",
    "# KDE plot of normal occurence\n",
    "sns.kdeplot(awid_div.loc[awid_div['class'] == 0, 'frame.time_delta'] , label = 'class == 0')\n",
    "\n",
    "# KDE plot of attacks\n",
    "sns.kdeplot(awid_div.loc[awid_div['class'] == 1, 'frame.time_delta'] , label = 'class == 1')\n",
    "\n",
    "# Labeling of plot\n",
    "plt.xlabel('frame.time_delta'); plt.ylabel('Density'); plt.title('Distribution of Serror Rate');"
   ]
  },
  {
   "cell_type": "code",
   "execution_count": 108,
   "metadata": {},
   "outputs": [
    {
     "data": {
      "text/plain": [
       "array([0.      , 0.024271, 0.001631, ..., 0.031383, 0.036295, 0.022597])"
      ]
     },
     "execution_count": 108,
     "metadata": {},
     "output_type": "execute_result"
    }
   ],
   "source": [
    "awid_div[\"frame.time_delta\"].unique()"
   ]
  },
  {
   "cell_type": "code",
   "execution_count": 109,
   "metadata": {},
   "outputs": [
    {
     "name": "stdout",
     "output_type": "stream",
     "text": [
      "0\n"
     ]
    }
   ],
   "source": [
    "#anything above serror rate = 0.5 is almost certainly an attack\n",
    "a=0\n",
    "b=-1\n",
    "dummy =[]\n",
    "for i in awid_div[\"class\"]:\n",
    "    b+=1\n",
    "    if awid_div[\"class\"][b]==1 and awid_div[\"frame.time_delta\"][b] ==1:\n",
    "        a+=1\n",
    "        dummy.append(awid_div[\"frame.time_delta\"][b])\n",
    "print(a)"
   ]
  },
  {
   "cell_type": "code",
   "execution_count": 110,
   "metadata": {},
   "outputs": [
    {
     "name": "stdout",
     "output_type": "stream",
     "text": [
      "Percentage of Attacks with dst_serror_rate >= 0.5 :  0.0\n"
     ]
    }
   ],
   "source": [
    "print(\"Percentage of Attacks with dst_serror_rate >= 0.5 : \", a/((awid_div[\"class\"] ==1).value_counts()[True]) * 100)"
   ]
  },
  {
   "cell_type": "code",
   "execution_count": 111,
   "metadata": {},
   "outputs": [
    {
     "name": "stdout",
     "output_type": "stream",
     "text": [
      "0\n",
      "1795575\n"
     ]
    }
   ],
   "source": [
    "serror_rate_attack_1 = dummy\n",
    "print(len(serror_rate_attack_1))\n",
    "diff = len(awid_div[\"frame.time_delta\"]) - len(serror_rate_attack_1)\n",
    "print(diff)"
   ]
  },
  {
   "cell_type": "code",
   "execution_count": 112,
   "metadata": {},
   "outputs": [
    {
     "name": "stderr",
     "output_type": "stream",
     "text": [
      "/home/shaubhik_2111cs19/anaconda3/lib/python3.8/site-packages/numpy/core/fromnumeric.py:3334: RuntimeWarning: Mean of empty slice.\n",
      "  return _methods._mean(a, axis=axis, dtype=dtype,\n",
      "/home/shaubhik_2111cs19/anaconda3/lib/python3.8/site-packages/numpy/core/_methods.py:161: RuntimeWarning: invalid value encountered in double_scalars\n",
      "  ret = ret.dtype.type(ret / rcount)\n"
     ]
    },
    {
     "data": {
      "text/plain": [
       "0"
      ]
     },
     "execution_count": 112,
     "metadata": {},
     "output_type": "execute_result"
    }
   ],
   "source": [
    "dummy2 = [np.mean(serror_rate_attack_1) for i in range(0,diff)] \n",
    "len(serror_rate_attack_1)"
   ]
  },
  {
   "cell_type": "code",
   "execution_count": 113,
   "metadata": {},
   "outputs": [
    {
     "data": {
      "text/html": [
       "<div>\n",
       "<style scoped>\n",
       "    .dataframe tbody tr th:only-of-type {\n",
       "        vertical-align: middle;\n",
       "    }\n",
       "\n",
       "    .dataframe tbody tr th {\n",
       "        vertical-align: top;\n",
       "    }\n",
       "\n",
       "    .dataframe thead th {\n",
       "        text-align: right;\n",
       "    }\n",
       "</style>\n",
       "<table border=\"1\" class=\"dataframe\">\n",
       "  <thead>\n",
       "    <tr style=\"text-align: right;\">\n",
       "      <th></th>\n",
       "      <th>class</th>\n",
       "      <th>frame.len</th>\n",
       "      <th>frame.time_relative</th>\n",
       "      <th>wlan.fc.subtype</th>\n",
       "      <th>wlan.da</th>\n",
       "      <th>radiotap.datarate</th>\n",
       "    </tr>\n",
       "  </thead>\n",
       "  <tbody>\n",
       "    <tr>\n",
       "      <th>class</th>\n",
       "      <td>1.000000</td>\n",
       "      <td>-0.200726</td>\n",
       "      <td>0.146209</td>\n",
       "      <td>-0.398813</td>\n",
       "      <td>0.377001</td>\n",
       "      <td>-0.320679</td>\n",
       "    </tr>\n",
       "    <tr>\n",
       "      <th>frame.len</th>\n",
       "      <td>-0.200726</td>\n",
       "      <td>1.000000</td>\n",
       "      <td>-0.199608</td>\n",
       "      <td>-0.182199</td>\n",
       "      <td>0.361937</td>\n",
       "      <td>0.755426</td>\n",
       "    </tr>\n",
       "    <tr>\n",
       "      <th>frame.time_relative</th>\n",
       "      <td>0.146209</td>\n",
       "      <td>-0.199608</td>\n",
       "      <td>1.000000</td>\n",
       "      <td>-0.224889</td>\n",
       "      <td>0.078696</td>\n",
       "      <td>-0.217900</td>\n",
       "    </tr>\n",
       "    <tr>\n",
       "      <th>wlan.fc.subtype</th>\n",
       "      <td>-0.398813</td>\n",
       "      <td>-0.182199</td>\n",
       "      <td>-0.224889</td>\n",
       "      <td>1.000000</td>\n",
       "      <td>-0.601553</td>\n",
       "      <td>-0.083112</td>\n",
       "    </tr>\n",
       "    <tr>\n",
       "      <th>wlan.da</th>\n",
       "      <td>0.377001</td>\n",
       "      <td>0.361937</td>\n",
       "      <td>0.078696</td>\n",
       "      <td>-0.601553</td>\n",
       "      <td>1.000000</td>\n",
       "      <td>0.025542</td>\n",
       "    </tr>\n",
       "    <tr>\n",
       "      <th>radiotap.datarate</th>\n",
       "      <td>-0.320679</td>\n",
       "      <td>0.755426</td>\n",
       "      <td>-0.217900</td>\n",
       "      <td>-0.083112</td>\n",
       "      <td>0.025542</td>\n",
       "      <td>1.000000</td>\n",
       "    </tr>\n",
       "  </tbody>\n",
       "</table>\n",
       "</div>"
      ],
      "text/plain": [
       "                        class  frame.len  frame.time_relative  \\\n",
       "class                1.000000  -0.200726             0.146209   \n",
       "frame.len           -0.200726   1.000000            -0.199608   \n",
       "frame.time_relative  0.146209  -0.199608             1.000000   \n",
       "wlan.fc.subtype     -0.398813  -0.182199            -0.224889   \n",
       "wlan.da              0.377001   0.361937             0.078696   \n",
       "radiotap.datarate   -0.320679   0.755426            -0.217900   \n",
       "\n",
       "                     wlan.fc.subtype   wlan.da  radiotap.datarate  \n",
       "class                      -0.398813  0.377001          -0.320679  \n",
       "frame.len                  -0.182199  0.361937           0.755426  \n",
       "frame.time_relative        -0.224889  0.078696          -0.217900  \n",
       "wlan.fc.subtype             1.000000 -0.601553          -0.083112  \n",
       "wlan.da                    -0.601553  1.000000           0.025542  \n",
       "radiotap.datarate          -0.083112  0.025542           1.000000  "
      ]
     },
     "execution_count": 113,
     "metadata": {},
     "output_type": "execute_result"
    }
   ],
   "source": [
    "#Further exploratory data analysis requires interaction between features be seen\n",
    "#Taking three most negatively and positively correlated features and seeing correlations b/w them\n",
    "ext_data = awid[['class','frame.len','frame.time_relative','wlan.fc.subtype', 'wlan.da','radiotap.datarate' ]]\n",
    "ext_data_corrs = ext_data.corr()\n",
    "ext_data_corrs"
   ]
  },
  {
   "cell_type": "code",
   "execution_count": 114,
   "metadata": {},
   "outputs": [
    {
     "data": {
      "image/png": "[encoded data removed]",
      "text/plain": [
       "<Figure size 576x432 with 2 Axes>"
      ]
     },
     "metadata": {
      "needs_background": "light"
     },
     "output_type": "display_data"
    }
   ],
   "source": [
    "plt.figure(figsize = (8, 6))\n",
    "\n",
    "# Heatmap of correlations\n",
    "sns.heatmap(ext_data_corrs, cmap = plt.cm.RdYlBu_r, vmin = -1, annot = True, vmax = 1)\n",
    "plt.title('Correlation Heatmap');"
   ]
  },
  {
   "cell_type": "code",
   "execution_count": 115,
   "metadata": {},
   "outputs": [
    {
     "name": "stderr",
     "output_type": "stream",
     "text": [
      "/home/shaubhik_2111cs19/anaconda3/lib/python3.8/site-packages/seaborn/distributions.py:369: UserWarning: Default bandwidth for data is 0; skipping density estimation.\n",
      "  warnings.warn(msg, UserWarning)\n",
      "/home/shaubhik_2111cs19/anaconda3/lib/python3.8/site-packages/seaborn/distributions.py:369: UserWarning: Default bandwidth for data is 0; skipping density estimation.\n",
      "  warnings.warn(msg, UserWarning)\n"
     ]
    },
    {
     "data": {
      "image/png": "[encoded data removed]",
      "text/plain": [
       "<Figure size 1080x1080 with 5 Axes>"
      ]
     },
     "metadata": {
      "needs_background": "light"
     },
     "output_type": "display_data"
    }
   ],
   "source": [
    "plt.figure(figsize = (15,15))\n",
    "\n",
    "# iterate through the sources\n",
    "for i, source in enumerate(['frame.len','frame.time_relative','wlan.fc.subtype', 'wlan.da','radiotap.datarate' ]):\n",
    "    \n",
    "    # create a new subplot for each source\n",
    "    plt.subplot(6, 1, i+1)\n",
    "    # plot repaid loans\n",
    "    sns.kdeplot(awid_div.loc[awid_div['class'] == 0, source], label = 'class == 0')\n",
    "    # plot loans that were not repaid\n",
    "    sns.kdeplot(awid_div.loc[awid_div['class'] == 1, source], label = 'class == 1')\n",
    "    \n",
    "    # Label the plots\n",
    "    plt.title('Distribution of %s by Target Value' % source)\n",
    "    plt.xlabel('%s' % source); plt.ylabel('Density');\n",
    "    \n",
    "plt.tight_layout(pad =0.44)"
   ]
  },
  {
   "cell_type": "code",
   "execution_count": 116,
   "metadata": {},
   "outputs": [],
   "source": [
    "#INTERACTION TERMS \n",
    "#POLYNOMIAL FEATURES\n",
    "#WHATEVER IS DONE TO TRAIN SET NEEDS TO BE DONE TO TEST SET ASWELL\n",
    "#COULD HAVE USED PAIRS PLOT BUT LETS LEAVE THAT FOR NOW\n",
    "\n",
    "poly_features = awid_div[['frame.len','frame.time_relative','wlan.fc.subtype', 'wlan.da','radiotap.datarate','class']]\n",
    "poly_features_test =test_div[['frame.len','frame.time_relative','wlan.fc.subtype', 'wlan.da','radiotap.datarate']]\n",
    "\n",
    "\n",
    "poly_target = poly_features['class']\n",
    "poly_features = poly_features.drop(columns = ['class'])\n",
    "\n",
    "\n",
    "from sklearn.preprocessing import PolynomialFeatures\n",
    "                                  \n",
    "# Create the polynomial object with specified degree\n",
    "poly_transformer = PolynomialFeatures(degree = 2)"
   ]
  },
  {
   "cell_type": "code",
   "execution_count": 117,
   "metadata": {},
   "outputs": [
    {
     "name": "stdout",
     "output_type": "stream",
     "text": [
      "Polynomial Features shape:  (1795575, 21)\n"
     ]
    }
   ],
   "source": [
    "# Train the polynomial features\n",
    "poly_transformer.fit(poly_features)\n",
    "\n",
    "# Transform the features\n",
    "poly_features = poly_transformer.transform(poly_features)\n",
    "poly_features_test = poly_transformer.transform(poly_features_test)\n",
    "print('Polynomial Features shape: ', poly_features.shape)"
   ]
  },
  {
   "cell_type": "code",
   "execution_count": 118,
   "metadata": {},
   "outputs": [
    {
     "name": "stderr",
     "output_type": "stream",
     "text": [
      "/home/shaubhik_2111cs19/.local/lib/python3.8/site-packages/sklearn/utils/deprecation.py:87: FutureWarning: Function get_feature_names is deprecated; get_feature_names is deprecated in 1.0 and will be removed in 1.2. Please use get_feature_names_out instead.\n",
      "  warnings.warn(msg, category=FutureWarning)\n"
     ]
    },
    {
     "data": {
      "text/plain": [
       "['1',\n",
       " 'frame.len',\n",
       " 'frame.time_relative',\n",
       " 'wlan.fc.subtype',\n",
       " 'wlan.da',\n",
       " 'radiotap.datarate',\n",
       " 'frame.len^2',\n",
       " 'frame.len frame.time_relative',\n",
       " 'frame.len wlan.fc.subtype',\n",
       " 'frame.len wlan.da',\n",
       " 'frame.len radiotap.datarate',\n",
       " 'frame.time_relative^2',\n",
       " 'frame.time_relative wlan.fc.subtype',\n",
       " 'frame.time_relative wlan.da',\n",
       " 'frame.time_relative radiotap.datarate']"
      ]
     },
     "execution_count": 118,
     "metadata": {},
     "output_type": "execute_result"
    }
   ],
   "source": [
    "poly_transformer.get_feature_names(input_features = ['frame.len','frame.time_relative','wlan.fc.subtype', 'wlan.da','radiotap.datarate'])[:15]"
   ]
  },
  {
   "cell_type": "code",
   "execution_count": 119,
   "metadata": {},
   "outputs": [
    {
     "name": "stdout",
     "output_type": "stream",
     "text": [
      "wlan.fc.subtype                         -0.398813\n",
      "wlan.fc.subtype radiotap.datarate       -0.327649\n",
      "radiotap.datarate                       -0.320679\n",
      "wlan.fc.subtype^2                       -0.291607\n",
      "radiotap.datarate^2                     -0.281053\n",
      "frame.time_relative radiotap.datarate   -0.264087\n",
      "frame.len wlan.fc.subtype               -0.218791\n",
      "frame.len radiotap.datarate             -0.211840\n",
      "frame.time_relative wlan.fc.subtype     -0.203437\n",
      "frame.len^2                             -0.202691\n",
      "Name: class, dtype: float64\n",
      "wlan.da                        0.377001\n",
      "frame.time_relative wlan.da    0.405602\n",
      "wlan.da^2                      0.430227\n",
      "class                          1.000000\n",
      "1                                   NaN\n",
      "Name: class, dtype: float64\n"
     ]
    }
   ],
   "source": [
    "# Create a dataframe of the features \n",
    "poly_features = pd.DataFrame(poly_features, \n",
    "                             columns = poly_transformer.get_feature_names(['frame.len','frame.time_relative','wlan.fc.subtype', 'wlan.da','radiotap.datarate']))\n",
    "\n",
    "# Add in the target\n",
    "poly_features['class'] = poly_target\n",
    "\n",
    "# Find the correlations with the target\n",
    "poly_corrs = poly_features.corr()['class'].sort_values()\n",
    "\n",
    "# Display most negative and most positive\n",
    "print(poly_corrs.head(10))\n",
    "print(poly_corrs.tail(5))"
   ]
  },
  {
   "cell_type": "code",
   "execution_count": 120,
   "metadata": {},
   "outputs": [],
   "source": [
    "# Put test features into dataframe\n",
    "poly_features_test = pd.DataFrame(poly_features_test, \n",
    "                                  columns = poly_transformer.get_feature_names(['frame.len','frame.time_relative','wlan.fc.subtype', 'wlan.da','radiotap.datarate']))"
   ]
  },
  {
   "cell_type": "code",
   "execution_count": 121,
   "metadata": {},
   "outputs": [],
   "source": [
    "awid_div['index_col'] = awid_div.index\n",
    "test_div['index_col'] = test_div.index"
   ]
  },
  {
   "cell_type": "code",
   "execution_count": 122,
   "metadata": {},
   "outputs": [],
   "source": [
    "# Merge polynomial features into training dataframe\n",
    "poly_features['index_col'] = awid_div['index_col']\n",
    "awid_div_poly = awid_div.merge(poly_features, on = 'index_col', how = 'left')"
   ]
  },
  {
   "cell_type": "code",
   "execution_count": 123,
   "metadata": {},
   "outputs": [
    {
     "name": "stdout",
     "output_type": "stream",
     "text": [
      "Training data with polynomial features shape:  (1795575, 81)\n",
      "Testing data with polynomial features shape:   (575643, 81)\n"
     ]
    }
   ],
   "source": [
    "# Merge polnomial features into testing dataframe\n",
    "poly_features_test['index_col'] = awid_test['index_col']\n",
    "test_poly = test_div.merge(poly_features_test, on = 'index_col', how = 'left')\n",
    "\n",
    "# Align the dataframes\n",
    "awid_div_poly, test_poly = awid_div_poly.align(test_poly, join = 'inner', axis = 1)\n",
    "\n",
    "# Print out the new shapes\n",
    "print('Training data with polynomial features shape: ', awid_div_poly.shape)\n",
    "print('Testing data with polynomial features shape:  ', test_poly.shape)"
   ]
  },
  {
   "cell_type": "code",
   "execution_count": 124,
   "metadata": {},
   "outputs": [],
   "source": [
    "awid_target_div = awid_div['class']\n",
    "test_div = test_div.drop('class',axis=1)"
   ]
  },
  {
   "cell_type": "code",
   "execution_count": 125,
   "metadata": {},
   "outputs": [],
   "source": [
    "from collections import Counter\n",
    "from sklearn.model_selection import train_test_split\n",
    "from sklearn.feature_extraction.text import TfidfVectorizer, CountVectorizer\n",
    "from sklearn.naive_bayes import MultinomialNB\n",
    "from sklearn.naive_bayes import GaussianNB\n",
    "from sklearn.naive_bayes import BernoulliNB\n",
    "from sklearn.svm import SVC\n",
    "from sklearn.neural_network import MLPClassifier\n",
    "from sklearn.ensemble import AdaBoostClassifier\n",
    "from sklearn.tree import DecisionTreeClassifier\n",
    "from sklearn.ensemble import RandomForestClassifier\n",
    "from sklearn.ensemble import GradientBoostingClassifier\n",
    "from sklearn.linear_model import LogisticRegression\n",
    "from sklearn.model_selection import GridSearchCV\n",
    "from sklearn.metrics import f1_score, confusion_matrix\n",
    "\n",
    "clfs = {\n",
    "#     'mnb': MultinomialNB(),\n",
    "    'gnb': GaussianNB(),\n",
    "#    'svm1': SVC(kernel='linear'),\n",
    "#   'svm2': SVC(kernel='rbf'),\n",
    "#    'svm3': SVC(kernel='sigmoid'),\n",
    "    'mlp1': MLPClassifier(),\n",
    "    'mlp2': MLPClassifier(hidden_layer_sizes=[100, 100]),\n",
    "   'ada': AdaBoostClassifier(),\n",
    "    'dtc': DecisionTreeClassifier(),\n",
    "    'rfc': RandomForestClassifier(),\n",
    "    'gbc': GradientBoostingClassifier(),\n",
    "    'lr': LogisticRegression()\n",
    "}"
   ]
  },
  {
   "cell_type": "code",
   "execution_count": 126,
   "metadata": {},
   "outputs": [
    {
     "name": "stdout",
     "output_type": "stream",
     "text": [
      "gnb\n",
      "mlp1\n",
      "mlp2\n",
      "ada\n",
      "dtc\n",
      "rfc\n",
      "gbc\n",
      "lr\n"
     ]
    },
    {
     "name": "stderr",
     "output_type": "stream",
     "text": [
      "/home/shaubhik_2111cs19/.local/lib/python3.8/site-packages/sklearn/linear_model/_logistic.py:444: ConvergenceWarning: lbfgs failed to converge (status=2):\n",
      "ABNORMAL_TERMINATION_IN_LNSRCH.\n",
      "\n",
      "Increase the number of iterations (max_iter) or scale the data as shown in:\n",
      "    https://scikit-learn.org/stable/modules/preprocessing.html\n",
      "Please also refer to the documentation for alternative solver options:\n",
      "    https://scikit-learn.org/stable/modules/linear_model.html#logistic-regression\n",
      "  n_iter_i = _check_optimize_result(\n"
     ]
    }
   ],
   "source": [
    "#targets are original here\n",
    "f1_scores = dict()\n",
    "for clf_name in clfs:\n",
    "    print(clf_name)\n",
    "    clf = clfs[clf_name]\n",
    "    clf.fit(awid_div_poly, awid_target)\n",
    "    y_pred = clf.predict(test_poly)\n",
    "    f1_scores[clf_name] = f1_score(y_pred, awid_test_target,average=\"weighted\")"
   ]
  },
  {
   "cell_type": "code",
   "execution_count": 129,
   "metadata": {},
   "outputs": [
    {
     "data": {
      "text/plain": [
       "{'gnb': 0.7761893775379749,\n",
       " 'mlp1': 0.9594569190222951,\n",
       " 'mlp2': 0.9593943464468931,\n",
       " 'ada': 0.5161956208118216,\n",
       " 'dtc': 0.962075231281951,\n",
       " 'rfc': 0.9602212712249049,\n",
       " 'gbc': 0.9763373615878296,\n",
       " 'lr': 0.027741802857436534}"
      ]
     },
     "execution_count": 129,
     "metadata": {},
     "output_type": "execute_result"
    }
   ],
   "source": [
    "f1_scores"
   ]
  },
  {
   "cell_type": "code",
   "execution_count": 128,
   "metadata": {},
   "outputs": [
    {
     "data": {
      "text/plain": [
       "{'gnb': 0.8032044166262771,\n",
       " 'mlp1': 0.9220732294147588,\n",
       " 'mlp2': 0.9220315369074236,\n",
       " 'ada': 0.605363046193561,\n",
       " 'dtc': 0.9549321367583729,\n",
       " 'rfc': 0.9323295862192366,\n",
       " 'gbc': 0.9584429933135641,\n",
       " 'lr': 0.014066009662238576}"
      ]
     },
     "execution_count": 128,
     "metadata": {},
     "output_type": "execute_result"
    }
   ],
   "source": [
    "accuracy={}\n",
    "for i in clfs:\n",
    "    accuracy[i] = clfs[i].score(test_poly, awid_test_target)\n",
    "accuracy"
   ]
  },
  {
   "cell_type": "code",
   "execution_count": 130,
   "metadata": {},
   "outputs": [],
   "source": [
    "#Dimensionality reduction will be used to reduce redundant features\n",
    "#LETS DETERMINE IMPORTANT FEATURES# Make the random forest classifier\n",
    "random_forest = RandomForestClassifier(n_estimators = 100, random_state = 50, verbose = 1, n_jobs = -1)"
   ]
  },
  {
   "cell_type": "code",
   "execution_count": 131,
   "metadata": {},
   "outputs": [
    {
     "name": "stderr",
     "output_type": "stream",
     "text": [
      "[Parallel(n_jobs=-1)]: Using backend ThreadingBackend with 192 concurrent workers.\n",
      "[Parallel(n_jobs=-1)]: Done  20 out of 100 | elapsed:   47.6s remaining:  3.2min\n",
      "[Parallel(n_jobs=-1)]: Done 100 out of 100 | elapsed:  1.0min finished\n",
      "[Parallel(n_jobs=100)]: Using backend ThreadingBackend with 100 concurrent workers.\n",
      "[Parallel(n_jobs=100)]: Done   2 out of 100 | elapsed:    0.2s remaining:   10.3s\n",
      "[Parallel(n_jobs=100)]: Done 100 out of 100 | elapsed:    1.5s finished\n"
     ]
    }
   ],
   "source": [
    "# Train on the training data\n",
    "random_forest.fit(awid_div_poly, awid_target_div)\n",
    "features = list(awid_div_poly.columns)\n",
    "\n",
    "# Extract feature importances\n",
    "feature_importance_values = random_forest.feature_importances_\n",
    "feature_importances = pd.DataFrame({'feature': features, 'importance': feature_importance_values})\n",
    "\n",
    "# Make predictions on the test data\n",
    "predictions = random_forest.predict_proba(test_poly)[:, 1]"
   ]
  },
  {
   "cell_type": "code",
   "execution_count": 132,
   "metadata": {},
   "outputs": [],
   "source": [
    "def plot_feature_importances(df):\n",
    "    \"\"\"\n",
    "    Plot importances returned by a model. This can work with any measure of\n",
    "    feature importance provided that higher importance is better. \n",
    "    \n",
    "    Args:\n",
    "        df (dataframe): feature importances. Must have the features in a column\n",
    "        called `features` and the importances in a column called `importance\n",
    "        \n",
    "    Returns:\n",
    "        shows a plot of the 15 most importance features\n",
    "        \n",
    "        df (dataframe): feature importances sorted by importance (highest to lowest) \n",
    "        with a column for normalized importance\n",
    "        \"\"\"\n",
    "    \n",
    "    # Sort features according to importance\n",
    "    df = df.sort_values('importance', ascending = False).reset_index()\n",
    "    \n",
    "    # Normalize the feature importances to add up to one\n",
    "    df['importance_normalized'] = df['importance'] / df['importance'].sum()\n",
    "\n",
    "    # Make a horizontal bar chart of feature importances\n",
    "    plt.figure(figsize = (10, 6))\n",
    "    ax = plt.subplot()\n",
    "    \n",
    "    # Need to reverse the index to plot most important on top\n",
    "    ax.barh(list(reversed(list(df.index[:15]))), \n",
    "            df['importance_normalized'].head(15), \n",
    "            align = 'center', edgecolor = 'k')\n",
    "    \n",
    "    # Set the yticks and labels\n",
    "    ax.set_yticks(list(reversed(list(df.index[:15]))))\n",
    "    ax.set_yticklabels(df['feature'].head(15))\n",
    "    \n",
    "    # Plot labeling\n",
    "    plt.xlabel('Normalized Importance'); plt.title('Feature Importances')\n",
    "    plt.show()\n",
    "    \n",
    "    return df"
   ]
  },
  {
   "cell_type": "code",
   "execution_count": 133,
   "metadata": {},
   "outputs": [
    {
     "data": {
      "image/png": "[encoded data removed]",
      "text/plain": [
       "<Figure size 720x432 with 1 Axes>"
      ]
     },
     "metadata": {
      "needs_background": "light"
     },
     "output_type": "display_data"
    }
   ],
   "source": [
    "feature_importances_sorted = plot_feature_importances(feature_importances)"
   ]
  },
  {
   "cell_type": "code",
   "execution_count": 134,
   "metadata": {},
   "outputs": [],
   "source": [
    "selected_important_features = feature_importances_sorted[:20]"
   ]
  },
  {
   "cell_type": "code",
   "execution_count": 135,
   "metadata": {},
   "outputs": [],
   "source": [
    "#creatre new dataframe with only top 20 important features\n",
    "selected_list=[x for x in selected_important_features.feature]\n",
    "train_selected = pd.DataFrame(awid_div_poly,columns = selected_list)\n",
    "test_selected = pd.DataFrame(test_poly,columns = selected_list)"
   ]
  },
  {
   "cell_type": "code",
   "execution_count": 137,
   "metadata": {},
   "outputs": [],
   "source": [
    "from collections import Counter\n",
    "from sklearn.model_selection import train_test_split\n",
    "from sklearn.feature_extraction.text import TfidfVectorizer, CountVectorizer\n",
    "from sklearn.naive_bayes import MultinomialNB\n",
    "from sklearn.naive_bayes import GaussianNB\n",
    "from sklearn.naive_bayes import BernoulliNB\n",
    "from sklearn.svm import SVC\n",
    "from sklearn.neural_network import MLPClassifier\n",
    "from sklearn.ensemble import AdaBoostClassifier\n",
    "from sklearn.tree import DecisionTreeClassifier\n",
    "from sklearn.ensemble import RandomForestClassifier\n",
    "from sklearn.ensemble import GradientBoostingClassifier\n",
    "from sklearn.linear_model import LogisticRegression\n",
    "from sklearn.model_selection import GridSearchCV\n",
    "from sklearn.metrics import f1_score, confusion_matrix\n",
    "\n",
    "clfs = {\n",
    "#     'mnb': MultinomialNB(),\n",
    "    'gnb': GaussianNB(),\n",
    "#    'svm1': SVC(kernel='linear'),\n",
    "#   'svm2': SVC(kernel='rbf'),\n",
    "#    'svm3': SVC(kernel='sigmoid'),\n",
    "    'mlp1': MLPClassifier(),\n",
    "    'mlp2': MLPClassifier(hidden_layer_sizes=[100, 100]),\n",
    "   'ada': AdaBoostClassifier(),\n",
    "    'dtc': DecisionTreeClassifier(),\n",
    "    'rfc': RandomForestClassifier(),\n",
    "    'gbc': GradientBoostingClassifier(),\n",
    "    'lr': LogisticRegression()\n",
    "}"
   ]
  },
  {
   "cell_type": "code",
   "execution_count": 138,
   "metadata": {},
   "outputs": [
    {
     "name": "stdout",
     "output_type": "stream",
     "text": [
      "gnb\n",
      "mlp1\n",
      "mlp2\n",
      "ada\n",
      "dtc\n",
      "rfc\n",
      "gbc\n",
      "lr\n"
     ]
    },
    {
     "name": "stderr",
     "output_type": "stream",
     "text": [
      "/home/shaubhik_2111cs19/.local/lib/python3.8/site-packages/sklearn/linear_model/_logistic.py:444: ConvergenceWarning: lbfgs failed to converge (status=2):\n",
      "ABNORMAL_TERMINATION_IN_LNSRCH.\n",
      "\n",
      "Increase the number of iterations (max_iter) or scale the data as shown in:\n",
      "    https://scikit-learn.org/stable/modules/preprocessing.html\n",
      "Please also refer to the documentation for alternative solver options:\n",
      "    https://scikit-learn.org/stable/modules/linear_model.html#logistic-regression\n",
      "  n_iter_i = _check_optimize_result(\n"
     ]
    }
   ],
   "source": [
    "#original\n",
    "f1_scores = dict()\n",
    "for clf_name in clfs:\n",
    "    print(clf_name)\n",
    "    clf = clfs[clf_name]\n",
    "    clf.fit(train_selected, awid_target)\n",
    "    y_pred = clf.predict(test_selected)\n",
    "    f1_scores[clf_name] = f1_score(y_pred, awid_test_target,average=\"weighted\")"
   ]
  },
  {
   "cell_type": "code",
   "execution_count": 139,
   "metadata": {},
   "outputs": [
    {
     "data": {
      "text/plain": [
       "{'gnb': 0.7761893775379749,\n",
       " 'mlp1': 0.9594569190222951,\n",
       " 'mlp2': 0.9594569190222951,\n",
       " 'ada': 0.8157658497289806,\n",
       " 'dtc': 0.9668814748020083,\n",
       " 'rfc': 0.971317046048412,\n",
       " 'gbc': 0.9764034334537112,\n",
       " 'lr': 0.027741802857436534}"
      ]
     },
     "execution_count": 139,
     "metadata": {},
     "output_type": "execute_result"
    }
   ],
   "source": [
    "f1_scores"
   ]
  },
  {
   "cell_type": "code",
   "execution_count": 141,
   "metadata": {},
   "outputs": [
    {
     "data": {
      "text/plain": [
       "{'gnb': 0.8032044166262771,\n",
       " 'mlp1': 0.9220732294147588,\n",
       " 'mlp2': 0.9220732294147588,\n",
       " 'ada': 0.835915663006412,\n",
       " 'dtc': 0.951753083074058,\n",
       " 'rfc': 0.9542546335141746,\n",
       " 'gbc': 0.9585263783282347,\n",
       " 'lr': 0.014066009662238576}"
      ]
     },
     "execution_count": 141,
     "metadata": {},
     "output_type": "execute_result"
    }
   ],
   "source": [
    "accuracy={}\n",
    "for i in clfs:\n",
    "    accuracy[i] = clfs[i].score(test_selected, awid_test_target)\n",
    "accuracy"
   ]
  },
  {
   "cell_type": "code",
   "execution_count": 142,
   "metadata": {},
   "outputs": [],
   "source": [
    "#USING PCA ON TOP OF RANDOM FORESTS FOR FEATURE SELECTION\n",
    "from sklearn.preprocessing import StandardScaler\n",
    "scaler = StandardScaler()\n",
    "# Fit on training set only.\n",
    "scaler.fit(train_selected)\n",
    "# Apply transform to both the training set and the test set.\n",
    "train_img = scaler.transform(train_selected)\n",
    "test_img = scaler.transform(test_selected)"
   ]
  },
  {
   "cell_type": "code",
   "execution_count": 143,
   "metadata": {},
   "outputs": [],
   "source": [
    "from sklearn.decomposition import PCA\n",
    "# Make an instance of the Model\n",
    "pca = PCA(.95)"
   ]
  },
  {
   "cell_type": "code",
   "execution_count": 144,
   "metadata": {},
   "outputs": [
    {
     "data": {
      "text/html": [
       "<style>#sk-container-id-2 {color: black;background-color: white;}#sk-container-id-2 pre{padding: 0;}#sk-container-id-2 div.sk-toggleable {background-color: white;}#sk-container-id-2 label.sk-toggleable__label {cursor: pointer;display: block;width: 100%;margin-bottom: 0;padding: 0.3em;box-sizing: border-box;text-align: center;}#sk-container-id-2 label.sk-toggleable__label-arrow:before {content: \"▸\";float: left;margin-right: 0.25em;color: #696969;}#sk-container-id-2 label.sk-toggleable__label-arrow:hover:before {color: black;}#sk-container-id-2 div.sk-estimator:hover label.sk-toggleable__label-arrow:before {color: black;}#sk-container-id-2 div.sk-toggleable__content {max-height: 0;max-width: 0;overflow: hidden;text-align: left;background-color: #f0f8ff;}#sk-container-id-2 div.sk-toggleable__content pre {margin: 0.2em;color: black;border-radius: 0.25em;background-color: #f0f8ff;}#sk-container-id-2 input.sk-toggleable__control:checked~div.sk-toggleable__content {max-height: 200px;max-width: 100%;overflow: auto;}#sk-container-id-2 input.sk-toggleable__control:checked~label.sk-toggleable__label-arrow:before {content: \"▾\";}#sk-container-id-2 div.sk-estimator input.sk-toggleable__control:checked~label.sk-toggleable__label {background-color: #d4ebff;}#sk-container-id-2 div.sk-label input.sk-toggleable__control:checked~label.sk-toggleable__label {background-color: #d4ebff;}#sk-container-id-2 input.sk-hidden--visually {border: 0;clip: rect(1px 1px 1px 1px);clip: rect(1px, 1px, 1px, 1px);height: 1px;margin: -1px;overflow: hidden;padding: 0;position: absolute;width: 1px;}#sk-container-id-2 div.sk-estimator {font-family: monospace;background-color: #f0f8ff;border: 1px dotted black;border-radius: 0.25em;box-sizing: border-box;margin-bottom: 0.5em;}#sk-container-id-2 div.sk-estimator:hover {background-color: #d4ebff;}#sk-container-id-2 div.sk-parallel-item::after {content: \"\";width: 100%;border-bottom: 1px solid gray;flex-grow: 1;}#sk-container-id-2 div.sk-label:hover label.sk-toggleable__label {background-color: #d4ebff;}#sk-container-id-2 div.sk-serial::before {content: \"\";position: absolute;border-left: 1px solid gray;box-sizing: border-box;top: 0;bottom: 0;left: 50%;z-index: 0;}#sk-container-id-2 div.sk-serial {display: flex;flex-direction: column;align-items: center;background-color: white;padding-right: 0.2em;padding-left: 0.2em;position: relative;}#sk-container-id-2 div.sk-item {position: relative;z-index: 1;}#sk-container-id-2 div.sk-parallel {display: flex;align-items: stretch;justify-content: center;background-color: white;position: relative;}#sk-container-id-2 div.sk-item::before, #sk-container-id-2 div.sk-parallel-item::before {content: \"\";position: absolute;border-left: 1px solid gray;box-sizing: border-box;top: 0;bottom: 0;left: 50%;z-index: -1;}#sk-container-id-2 div.sk-parallel-item {display: flex;flex-direction: column;z-index: 1;position: relative;background-color: white;}#sk-container-id-2 div.sk-parallel-item:first-child::after {align-self: flex-end;width: 50%;}#sk-container-id-2 div.sk-parallel-item:last-child::after {align-self: flex-start;width: 50%;}#sk-container-id-2 div.sk-parallel-item:only-child::after {width: 0;}#sk-container-id-2 div.sk-dashed-wrapped {border: 1px dashed gray;margin: 0 0.4em 0.5em 0.4em;box-sizing: border-box;padding-bottom: 0.4em;background-color: white;}#sk-container-id-2 div.sk-label label {font-family: monospace;font-weight: bold;display: inline-block;line-height: 1.2em;}#sk-container-id-2 div.sk-label-container {text-align: center;}#sk-container-id-2 div.sk-container {/* jupyter's `normalize.less` sets `[hidden] { display: none; }` but bootstrap.min.css set `[hidden] { display: none !important; }` so we also need the `!important` here to be able to override the default hidden behavior on the sphinx rendered scikit-learn.org. See: https://github.com/scikit-learn/scikit-learn/issues/21755 */display: inline-block !important;position: relative;}#sk-container-id-2 div.sk-text-repr-fallback {display: none;}</style><div id=\"sk-container-id-2\" class=\"sk-top-container\"><div class=\"sk-text-repr-fallback\"><pre>PCA(n_components=0.95)</pre><b>In a Jupyter environment, please rerun this cell to show the HTML representation or trust the notebook. <br />On GitHub, the HTML representation is unable to render, please try loading this page with nbviewer.org.</b></div><div class=\"sk-container\" hidden><div class=\"sk-item\"><div class=\"sk-estimator sk-toggleable\"><input class=\"sk-toggleable__control sk-hidden--visually\" id=\"sk-estimator-id-2\" type=\"checkbox\" checked><label for=\"sk-estimator-id-2\" class=\"sk-toggleable__label sk-toggleable__label-arrow\">PCA</label><div class=\"sk-toggleable__content\"><pre>PCA(n_components=0.95)</pre></div></div></div></div></div>"
      ],
      "text/plain": [
       "PCA(n_components=0.95)"
      ]
     },
     "execution_count": 144,
     "metadata": {},
     "output_type": "execute_result"
    }
   ],
   "source": [
    "pca.fit(train_selected)"
   ]
  },
  {
   "cell_type": "code",
   "execution_count": 145,
   "metadata": {},
   "outputs": [
    {
     "name": "stderr",
     "output_type": "stream",
     "text": [
      "/home/shaubhik_2111cs19/.local/lib/python3.8/site-packages/sklearn/base.py:450: UserWarning: X does not have valid feature names, but PCA was fitted with feature names\n",
      "  warnings.warn(\n",
      "/home/shaubhik_2111cs19/.local/lib/python3.8/site-packages/sklearn/base.py:450: UserWarning: X does not have valid feature names, but PCA was fitted with feature names\n",
      "  warnings.warn(\n"
     ]
    }
   ],
   "source": [
    "train_selected_pca = pca.transform(train_img)\n",
    "test_selected_pca = pca.transform(test_img)"
   ]
  },
  {
   "cell_type": "code",
   "execution_count": 146,
   "metadata": {},
   "outputs": [],
   "source": [
    "from collections import Counter\n",
    "from sklearn.model_selection import train_test_split\n",
    "from sklearn.feature_extraction.text import TfidfVectorizer, CountVectorizer\n",
    "from sklearn.naive_bayes import MultinomialNB\n",
    "from sklearn.naive_bayes import GaussianNB\n",
    "from sklearn.naive_bayes import BernoulliNB\n",
    "from sklearn.svm import SVC\n",
    "from sklearn.neural_network import MLPClassifier\n",
    "from sklearn.ensemble import AdaBoostClassifier\n",
    "from sklearn.tree import DecisionTreeClassifier\n",
    "from sklearn.ensemble import RandomForestClassifier\n",
    "from sklearn.ensemble import GradientBoostingClassifier\n",
    "from sklearn.linear_model import LogisticRegression\n",
    "from sklearn.model_selection import GridSearchCV\n",
    "from sklearn.metrics import f1_score, confusion_matrix\n",
    "\n",
    "clfs = {\n",
    "#    'mnb': MultinomialNB(),\n",
    "    'gnb': GaussianNB(),\n",
    "#    'svm1': SVC(kernel='linear'),\n",
    "#   'svm2': SVC(kernel='rbf'),\n",
    "#    'svm3': SVC(kernel='sigmoid'),\n",
    "    'mlp1': MLPClassifier(),\n",
    "    'mlp2': MLPClassifier(hidden_layer_sizes=[100, 100]),\n",
    "   'ada': AdaBoostClassifier(),\n",
    "    'dtc': DecisionTreeClassifier(),\n",
    "    'rfc': RandomForestClassifier(),\n",
    "    'gbc': GradientBoostingClassifier(),\n",
    "    'lr': LogisticRegression()\n",
    "}"
   ]
  },
  {
   "cell_type": "code",
   "execution_count": 147,
   "metadata": {},
   "outputs": [
    {
     "name": "stdout",
     "output_type": "stream",
     "text": [
      "gnb\n",
      "mlp1\n",
      "mlp2\n",
      "ada\n",
      "dtc\n",
      "rfc\n",
      "gbc\n",
      "lr\n"
     ]
    },
    {
     "name": "stderr",
     "output_type": "stream",
     "text": [
      "/home/shaubhik_2111cs19/.local/lib/python3.8/site-packages/sklearn/linear_model/_logistic.py:444: ConvergenceWarning: lbfgs failed to converge (status=2):\n",
      "ABNORMAL_TERMINATION_IN_LNSRCH.\n",
      "\n",
      "Increase the number of iterations (max_iter) or scale the data as shown in:\n",
      "    https://scikit-learn.org/stable/modules/preprocessing.html\n",
      "Please also refer to the documentation for alternative solver options:\n",
      "    https://scikit-learn.org/stable/modules/linear_model.html#logistic-regression\n",
      "  n_iter_i = _check_optimize_result(\n"
     ]
    }
   ],
   "source": [
    "#original\n",
    "f1_scores = dict()\n",
    "for clf_name in clfs:\n",
    "    print(clf_name)\n",
    "    clf = clfs[clf_name]\n",
    "    clf.fit(train_selected_pca, awid_target)\n",
    "    y_pred = clf.predict(test_selected_pca)\n",
    "    f1_scores[clf_name] = f1_score(y_pred, awid_test_target,average=\"weighted\")"
   ]
  },
  {
   "cell_type": "code",
   "execution_count": 148,
   "metadata": {},
   "outputs": [
    {
     "data": {
      "text/plain": [
       "{'gnb': 0.9594569190222951,\n",
       " 'mlp1': 0.9594569190222951,\n",
       " 'mlp2': 0.9594569190222951,\n",
       " 'ada': 0.9594569190222951,\n",
       " 'dtc': 0.9594569190222951,\n",
       " 'rfc': 0.9594569190222951,\n",
       " 'gbc': 0.9594569190222951,\n",
       " 'lr': 0.027741802857436534}"
      ]
     },
     "execution_count": 148,
     "metadata": {},
     "output_type": "execute_result"
    }
   ],
   "source": [
    "f1_scores"
   ]
  },
  {
   "cell_type": "code",
   "execution_count": 149,
   "metadata": {},
   "outputs": [
    {
     "data": {
      "text/plain": [
       "{'gnb': 0.9220732294147588,\n",
       " 'mlp1': 0.9220732294147588,\n",
       " 'mlp2': 0.9220732294147588,\n",
       " 'ada': 0.9220732294147588,\n",
       " 'dtc': 0.9220732294147588,\n",
       " 'rfc': 0.9220732294147588,\n",
       " 'gbc': 0.9220732294147588,\n",
       " 'lr': 0.014066009662238576}"
      ]
     },
     "execution_count": 149,
     "metadata": {},
     "output_type": "execute_result"
    }
   ],
   "source": [
    "accuracy={}\n",
    "for i in clfs:\n",
    "    accuracy[i] = clfs[i].score(test_selected_pca, awid_test_target)\n",
    "accuracy"
   ]
  },
  {
   "cell_type": "code",
   "execution_count": null,
   "metadata": {},
   "outputs": [],
   "source": []
  }
 ],
 "metadata": {
  "kernelspec": {
   "display_name": "Python 3",
   "language": "python",
   "name": "python3"
  },
  "language_info": {
   "codemirror_mode": {
    "name": "ipython",
    "version": 3
   },
   "file_extension": ".py",
   "mimetype": "text/x-python",
   "name": "python",
   "nbconvert_exporter": "python",
   "pygments_lexer": "ipython3",
   "version": "3.8.3"
  }
 },
 "nbformat": 4,
 "nbformat_minor": 4
}
